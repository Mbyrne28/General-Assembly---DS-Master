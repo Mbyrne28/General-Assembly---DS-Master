{
 "cells": [
  {
   "cell_type": "markdown",
   "metadata": {},
   "source": [
    "# Logistic regression using `scikit-learn`"
   ]
  },
  {
   "cell_type": "code",
   "execution_count": 1,
   "metadata": {},
   "outputs": [],
   "source": [
    "import numpy as np\n",
    "import pandas as pd\n",
    "import matplotlib.pyplot as plt\n",
    "import seaborn as sns\n",
    "\n",
    "from sklearn import linear_model as lm, metrics, model_selection as ms\n",
    "\n",
    "%matplotlib inline"
   ]
  },
  {
   "cell_type": "markdown",
   "metadata": {},
   "source": [
    "* [Original publication](http://dx.doi.org/10.1371/journal.pone.0137524)\n",
    "* [Dataset](http://dx.doi.org/10.5061/dryad.8jq92)"
   ]
  },
  {
   "cell_type": "code",
   "execution_count": 2,
   "metadata": {},
   "outputs": [],
   "source": [
    "GLIOMA_URL = 'http://datadryad.org/bitstream/handle/10255/dryad.88928/An%20eighteen%20serum%20cytokine%20signature%20for%20discriminating%20glioma%20from%20normal%20healthy%20individuals%20raw%20data.xlsx?sequence=1'"
   ]
  },
  {
   "cell_type": "code",
   "execution_count": 3,
   "metadata": {},
   "outputs": [],
   "source": [
    "glioma = pd.read_excel(GLIOMA_URL)"
   ]
  },
  {
   "cell_type": "markdown",
   "metadata": {},
   "source": [
    "Transpose DataFrame so that measurements are in columns."
   ]
  },
  {
   "cell_type": "code",
   "execution_count": 4,
   "metadata": {},
   "outputs": [],
   "source": [
    "glioma = glioma.transpose()"
   ]
  },
  {
   "cell_type": "markdown",
   "metadata": {},
   "source": [
    "Set first row as column names, then drop it."
   ]
  },
  {
   "cell_type": "code",
   "execution_count": 5,
   "metadata": {},
   "outputs": [],
   "source": [
    "glioma.columns = glioma.iloc[0]\n",
    "glioma.columns.name = ''\n",
    "glioma = glioma.reindex(glioma.index.drop('sample'))"
   ]
  },
  {
   "cell_type": "markdown",
   "metadata": {},
   "source": [
    "Extract cytokine measurements."
   ]
  },
  {
   "cell_type": "code",
   "execution_count": 6,
   "metadata": {},
   "outputs": [],
   "source": [
    "X = glioma.iloc[:,1:].apply(pd.to_numeric, axis=1)"
   ]
  },
  {
   "cell_type": "markdown",
   "metadata": {},
   "source": [
    "Apply logarithmic transformation to each measurement."
   ]
  },
  {
   "cell_type": "code",
   "execution_count": 7,
   "metadata": {},
   "outputs": [],
   "source": [
    "X = X.apply(np.log, axis=1)"
   ]
  },
  {
   "cell_type": "markdown",
   "metadata": {},
   "source": [
    "Dichotomise outcome: GBM versus rest.\n",
    "\n",
    "* DA = Diffuse Astrocytoma (grade II)\n",
    "* AA = Anaplastic Astrocytoma (grade III)\n",
    "* GBM = Glioblastoma Multiforme (grade IV)"
   ]
  },
  {
   "cell_type": "code",
   "execution_count": 8,
   "metadata": {},
   "outputs": [],
   "source": [
    "y = glioma.Type == 'GBM'"
   ]
  },
  {
   "cell_type": "markdown",
   "metadata": {},
   "source": [
    "## Logistic regression"
   ]
  },
  {
   "cell_type": "markdown",
   "metadata": {},
   "source": [
    "Fit the model.\n",
    "\n",
    "**Note**: by default, `scikit-learn` uses $L_{2}$ regularisation with parameter `C` (default = 1). This cannot be disabled, but we can set `C` so big that it has little effect."
   ]
  },
  {
   "cell_type": "code",
   "execution_count": 9,
   "metadata": {},
   "outputs": [
    {
     "data": {
      "text/plain": [
       "LogisticRegression(C=1e+50, class_weight=None, dual=False, fit_intercept=True,\n",
       "          intercept_scaling=1, max_iter=100, multi_class='ovr', n_jobs=1,\n",
       "          penalty='l2', random_state=None, solver='liblinear', tol=0.0001,\n",
       "          verbose=0, warm_start=False)"
      ]
     },
     "execution_count": 9,
     "metadata": {},
     "output_type": "execute_result"
    }
   ],
   "source": [
    "model1 = lm.LogisticRegression(C=1e50)\n",
    "model1.fit(X, y)"
   ]
  },
  {
   "cell_type": "markdown",
   "metadata": {},
   "source": [
    "Print regression coefficients."
   ]
  },
  {
   "cell_type": "code",
   "execution_count": 10,
   "metadata": {},
   "outputs": [
    {
     "data": {
      "text/plain": [
       "array([ 2.59983768])"
      ]
     },
     "execution_count": 10,
     "metadata": {},
     "output_type": "execute_result"
    }
   ],
   "source": [
    "model1.intercept_"
   ]
  },
  {
   "cell_type": "code",
   "execution_count": 11,
   "metadata": {},
   "outputs": [
    {
     "data": {
      "text/plain": [
       "array([[  0.3685038 ,  -6.68987779,  20.26060715,  -4.84749947,\n",
       "         -5.03132802,  -4.53010318,   5.77783412,  -1.20414406,\n",
       "          1.97712875,  -0.36768865,  19.83115924, -11.3313795 ,\n",
       "         -9.22368975,   3.36535531,  -5.10200119,  -0.06020032,\n",
       "          2.49228036,  -8.86554212,   0.4424792 , -15.77054193,\n",
       "         -9.15381798,   6.78637093,   9.18630776, -27.69152389,\n",
       "         20.07872275,   0.71891037,  -7.08665041,   9.71225346,\n",
       "         -0.43090571,  -2.13936243,   0.11798241,  -3.30839892,\n",
       "         -0.1458376 , -10.37538164,   5.11989368,   6.37386555,\n",
       "         -0.61567845,   3.52701839,  -5.46040197,   9.92533607,\n",
       "         -0.72621998,  13.33588691,  -9.57479981,  -5.92775118,\n",
       "          2.0528968 ,  -2.37407981,   3.74062175,  -3.21212373]])"
      ]
     },
     "execution_count": 11,
     "metadata": {},
     "output_type": "execute_result"
    }
   ],
   "source": [
    "model1.coef_"
   ]
  },
  {
   "cell_type": "markdown",
   "metadata": {},
   "source": [
    "Print odds ratios."
   ]
  },
  {
   "cell_type": "code",
   "execution_count": 12,
   "metadata": {},
   "outputs": [
    {
     "data": {
      "text/plain": [
       "array([ 13.46155272])"
      ]
     },
     "execution_count": 12,
     "metadata": {},
     "output_type": "execute_result"
    }
   ],
   "source": [
    "np.exp(model1.intercept_)"
   ]
  },
  {
   "cell_type": "code",
   "execution_count": 13,
   "metadata": {},
   "outputs": [
    {
     "data": {
      "text/plain": [
       "array([[  1.44557013e+00,   1.24343472e-03,   6.29607492e+08,\n",
       "          7.84797711e-03,   6.53013268e-03,   1.07795638e-02,\n",
       "          3.23058726e+02,   2.99948626e-01,   7.22197709e+00,\n",
       "          6.92332709e-01,   4.09791576e+08,   1.19906965e-05,\n",
       "          9.86739329e-05,   2.89437795e+01,   6.08455799e-03,\n",
       "          9.41575901e-01,   1.20888115e+01,   1.41170508e-04,\n",
       "          1.55656146e+00,   1.41560035e-07,   1.05815031e-04,\n",
       "          8.85693474e+02,   9.76253868e+03,   9.41291161e-13,\n",
       "          5.24902323e+08,   2.05219585e+00,   8.36193589e-04,\n",
       "          1.65187843e+04,   6.49920189e-01,   1.17729880e-01,\n",
       "          1.12522432e+00,   3.65746860e-02,   8.64298056e-01,\n",
       "          3.11909790e-05,   1.67317579e+02,   5.86319904e+02,\n",
       "          5.40274222e-01,   3.40223747e+01,   4.25184628e-03,\n",
       "          2.04417789e+04,   4.83734062e-01,   6.19016313e+05,\n",
       "          6.94572006e-05,   2.66446718e-03,   7.79043575e+00,\n",
       "          9.31001193e-02,   4.21241728e+01,   4.02709978e-02]])"
      ]
     },
     "execution_count": 13,
     "metadata": {},
     "output_type": "execute_result"
    }
   ],
   "source": [
    "np.exp(model1.coef_)"
   ]
  },
  {
   "cell_type": "markdown",
   "metadata": {},
   "source": [
    "Compute classification accuracy."
   ]
  },
  {
   "cell_type": "code",
   "execution_count": 14,
   "metadata": {},
   "outputs": [
    {
     "data": {
      "text/plain": [
       "1.0"
      ]
     },
     "execution_count": 14,
     "metadata": {},
     "output_type": "execute_result"
    }
   ],
   "source": [
    "metrics.accuracy_score(y, model1.predict(X))"
   ]
  },
  {
   "cell_type": "markdown",
   "metadata": {},
   "source": [
    "Compute confusion matrix."
   ]
  },
  {
   "cell_type": "code",
   "execution_count": 15,
   "metadata": {},
   "outputs": [
    {
     "data": {
      "text/plain": [
       "array([[ 72,   0],\n",
       "       [  0, 148]])"
      ]
     },
     "execution_count": 15,
     "metadata": {},
     "output_type": "execute_result"
    }
   ],
   "source": [
    "metrics.confusion_matrix(y, model1.predict(X))"
   ]
  },
  {
   "cell_type": "markdown",
   "metadata": {},
   "source": [
    "## ROC analysis"
   ]
  },
  {
   "cell_type": "markdown",
   "metadata": {},
   "source": [
    "Compute predicted probabilities for GBM (`y` = 1)."
   ]
  },
  {
   "cell_type": "code",
   "execution_count": 16,
   "metadata": {},
   "outputs": [],
   "source": [
    "pred_probs = model1.predict_proba(X)[:,1]"
   ]
  },
  {
   "cell_type": "markdown",
   "metadata": {},
   "source": [
    "Visualise distribution."
   ]
  },
  {
   "cell_type": "code",
   "execution_count": 17,
   "metadata": {},
   "outputs": [
    {
     "data": {
      "text/plain": [
       "<matplotlib.axes._subplots.AxesSubplot at 0x7f2f0a874ef0>"
      ]
     },
     "execution_count": 17,
     "metadata": {},
     "output_type": "execute_result"
    },
    {
     "data": {
      "image/png": "[encoded data removed]",
      "text/plain": [
       "<matplotlib.figure.Figure at 0x7f2f0a874080>"
      ]
     },
     "metadata": {},
     "output_type": "display_data"
    }
   ],
   "source": [
    "sns.distplot(pred_probs)"
   ]
  },
  {
   "cell_type": "markdown",
   "metadata": {},
   "source": [
    "Define a set of cut-off values where sensitivity and specificity will be computed."
   ]
  },
  {
   "cell_type": "code",
   "execution_count": 18,
   "metadata": {},
   "outputs": [],
   "source": [
    "cutoffs = np.linspace(0, 1, 1001)"
   ]
  },
  {
   "cell_type": "markdown",
   "metadata": {},
   "source": [
    "Define a function to compute specificity."
   ]
  },
  {
   "cell_type": "code",
   "execution_count": 19,
   "metadata": {},
   "outputs": [],
   "source": [
    "def specificity_score(y_true, y_pred):\n",
    "    cm = metrics.confusion_matrix(y_true, y_pred)\n",
    "    return cm[0,0] / cm[0,:].sum()"
   ]
  },
  {
   "cell_type": "markdown",
   "metadata": {},
   "source": [
    "Compute sensitivity and specificity at the cut-off values defined above."
   ]
  },
  {
   "cell_type": "code",
   "execution_count": 20,
   "metadata": {},
   "outputs": [],
   "source": [
    "sensitivities = np.zeros(cutoffs.size)\n",
    "specificities = np.zeros(cutoffs.size)\n",
    "for i, cutoff in enumerate(cutoffs):\n",
    "    sensitivities[i] = metrics.recall_score(y, pred_probs >= cutoff)\n",
    "    specificities[i] = specificity_score(y, pred_probs >= cutoff)"
   ]
  },
  {
   "cell_type": "markdown",
   "metadata": {},
   "source": [
    "Plot the ROC curve, i.e. sensitivity versus (1 - specificity)."
   ]
  },
  {
   "cell_type": "code",
   "execution_count": 21,
   "metadata": {},
   "outputs": [
    {
     "data": {
      "text/plain": [
       "[<matplotlib.lines.Line2D at 0x7f2f01ece898>]"
      ]
     },
     "execution_count": 21,
     "metadata": {},
     "output_type": "execute_result"
    },
    {
     "data": {
      "image/png": "[encoded data removed]",
      "text/plain": [
       "<matplotlib.figure.Figure at 0x7f2f01f06940>"
      ]
     },
     "metadata": {},
     "output_type": "display_data"
    }
   ],
   "source": [
    "plt.plot(1 - specificities, sensitivities)"
   ]
  },
  {
   "cell_type": "markdown",
   "metadata": {},
   "source": [
    "Alternatively…\n",
    "\n",
    "(FPR = 1 - specificity; TPR = sensitivity)"
   ]
  },
  {
   "cell_type": "code",
   "execution_count": 22,
   "metadata": {},
   "outputs": [
    {
     "data": {
      "text/plain": [
       "[<matplotlib.lines.Line2D at 0x7f2f01e30208>]"
      ]
     },
     "execution_count": 22,
     "metadata": {},
     "output_type": "execute_result"
    },
    {
     "data": {
      "image/png": "[encoded data removed]",
      "text/plain": [
       "<matplotlib.figure.Figure at 0x7f2f01eaa0b8>"
      ]
     },
     "metadata": {},
     "output_type": "display_data"
    }
   ],
   "source": [
    "fpr, tpr, cutoffs = metrics.roc_curve(y, pred_probs)\n",
    "plt.plot(fpr, tpr)"
   ]
  },
  {
   "cell_type": "markdown",
   "metadata": {},
   "source": [
    "Compute area under the ROC curve (AUC)."
   ]
  },
  {
   "cell_type": "code",
   "execution_count": 23,
   "metadata": {},
   "outputs": [
    {
     "data": {
      "text/plain": [
       "1.0"
      ]
     },
     "execution_count": 23,
     "metadata": {},
     "output_type": "execute_result"
    }
   ],
   "source": [
    "metrics.roc_auc_score(y, pred_probs)"
   ]
  },
  {
   "cell_type": "markdown",
   "metadata": {},
   "source": [
    "## Cross-validation"
   ]
  },
  {
   "cell_type": "markdown",
   "metadata": {},
   "source": [
    "Define stratified folds."
   ]
  },
  {
   "cell_type": "code",
   "execution_count": 24,
   "metadata": {},
   "outputs": [],
   "source": [
    "five_fold_cv = ms.StratifiedKFold(n_splits=5, shuffle=True)"
   ]
  },
  {
   "cell_type": "markdown",
   "metadata": {},
   "source": [
    "Compute average classification accuracy across folds."
   ]
  },
  {
   "cell_type": "code",
   "execution_count": 25,
   "metadata": {},
   "outputs": [
    {
     "data": {
      "text/plain": [
       "0.84094902513507164"
      ]
     },
     "execution_count": 25,
     "metadata": {},
     "output_type": "execute_result"
    }
   ],
   "source": [
    "accuracies = ms.cross_val_score(lm.LogisticRegression(C=1e50), X, y, scoring='accuracy', cv=five_fold_cv)\n",
    "np.mean(accuracies)"
   ]
  },
  {
   "cell_type": "markdown",
   "metadata": {},
   "source": [
    "Compute average AUC across folds."
   ]
  },
  {
   "cell_type": "code",
   "execution_count": 26,
   "metadata": {},
   "outputs": [
    {
     "data": {
      "text/plain": [
       "0.91375478927203058"
      ]
     },
     "execution_count": 26,
     "metadata": {},
     "output_type": "execute_result"
    }
   ],
   "source": [
    "aucs = ms.cross_val_score(lm.LogisticRegression(C=1e50), X, y, scoring='roc_auc', cv=five_fold_cv)\n",
    "np.mean(aucs)"
   ]
  },
  {
   "cell_type": "markdown",
   "metadata": {},
   "source": [
    "## Regularisation"
   ]
  },
  {
   "cell_type": "markdown",
   "metadata": {},
   "source": [
    "### $L_{2}$ regularisation"
   ]
  },
  {
   "cell_type": "markdown",
   "metadata": {},
   "source": [
    "Determine 'optimal' value of `C` by cross-validation using AUC scoring\n",
    "(`scikit-learn` uses $L_{2}$ regularisation by default)."
   ]
  },
  {
   "cell_type": "code",
   "execution_count": 27,
   "metadata": {},
   "outputs": [
    {
     "data": {
      "text/plain": [
       "GridSearchCV(cv=StratifiedKFold(n_splits=5, random_state=None, shuffle=True),\n",
       "       error_score='raise',\n",
       "       estimator=LogisticRegression(C=1.0, class_weight=None, dual=False, fit_intercept=True,\n",
       "          intercept_scaling=1, max_iter=100, multi_class='ovr', n_jobs=1,\n",
       "          penalty='l2', random_state=None, solver='liblinear', tol=0.0001,\n",
       "          verbose=0, warm_start=False),\n",
       "       fit_params=None, iid=True, n_jobs=1,\n",
       "       param_grid={'C': array([  1.00000e-04,   7.74264e-04,   5.99484e-03,   4.64159e-02,\n",
       "         3.59381e-01,   2.78256e+00,   2.15443e+01,   1.66810e+02,\n",
       "         1.29155e+03,   1.00000e+04])},\n",
       "       pre_dispatch='2*n_jobs', refit=True, return_train_score='warn',\n",
       "       scoring='roc_auc', verbose=0)"
      ]
     },
     "execution_count": 27,
     "metadata": {},
     "output_type": "execute_result"
    }
   ],
   "source": [
    "Cs = np.logspace(-4, 4, 10)\n",
    "gs = ms.GridSearchCV(\n",
    "    estimator=lm.LogisticRegression(),\n",
    "    param_grid={'C': Cs},\n",
    "    scoring='roc_auc',\n",
    "    cv=five_fold_cv\n",
    ")\n",
    "gs.fit(X, y)"
   ]
  },
  {
   "cell_type": "code",
   "execution_count": 28,
   "metadata": {},
   "outputs": [
    {
     "data": {
      "text/plain": [
       "0.94419017763845337"
      ]
     },
     "execution_count": 28,
     "metadata": {},
     "output_type": "execute_result"
    }
   ],
   "source": [
    "gs.best_score_"
   ]
  },
  {
   "cell_type": "code",
   "execution_count": 29,
   "metadata": {},
   "outputs": [
    {
     "data": {
      "text/plain": [
       "LogisticRegression(C=0.35938136638046259, class_weight=None, dual=False,\n",
       "          fit_intercept=True, intercept_scaling=1, max_iter=100,\n",
       "          multi_class='ovr', n_jobs=1, penalty='l2', random_state=None,\n",
       "          solver='liblinear', tol=0.0001, verbose=0, warm_start=False)"
      ]
     },
     "execution_count": 29,
     "metadata": {},
     "output_type": "execute_result"
    }
   ],
   "source": [
    "gs.best_estimator_"
   ]
  },
  {
   "cell_type": "markdown",
   "metadata": {},
   "source": [
    "Plot `C`s against AUC scores."
   ]
  },
  {
   "cell_type": "code",
   "execution_count": 30,
   "metadata": {},
   "outputs": [
    {
     "data": {
      "text/plain": [
       "[<matplotlib.lines.Line2D at 0x7f2f01d9d780>]"
      ]
     },
     "execution_count": 30,
     "metadata": {},
     "output_type": "execute_result"
    },
    {
     "data": {
      "image/png": "[encoded data removed]",
      "text/plain": [
       "<matplotlib.figure.Figure at 0x7f2f01e942e8>"
      ]
     },
     "metadata": {},
     "output_type": "display_data"
    }
   ],
   "source": [
    "plt.plot(np.log(Cs), gs.cv_results_['mean_test_score'])"
   ]
  },
  {
   "cell_type": "markdown",
   "metadata": {},
   "source": [
    "Alternatively…"
   ]
  },
  {
   "cell_type": "code",
   "execution_count": 31,
   "metadata": {},
   "outputs": [
    {
     "data": {
      "text/plain": [
       "LogisticRegressionCV(Cs=10, class_weight=None,\n",
       "           cv=StratifiedKFold(n_splits=5, random_state=None, shuffle=True),\n",
       "           dual=False, fit_intercept=True, intercept_scaling=1.0,\n",
       "           max_iter=100, multi_class='ovr', n_jobs=1, penalty='l2',\n",
       "           random_state=None, refit=True, scoring='roc_auc',\n",
       "           solver='lbfgs', tol=0.0001, verbose=0)"
      ]
     },
     "execution_count": 31,
     "metadata": {},
     "output_type": "execute_result"
    }
   ],
   "source": [
    "model2 = lm.LogisticRegressionCV(Cs=10, cv=five_fold_cv, scoring='roc_auc')\n",
    "model2.fit(X, y)"
   ]
  },
  {
   "cell_type": "code",
   "execution_count": 32,
   "metadata": {},
   "outputs": [
    {
     "data": {
      "text/plain": [
       "[<matplotlib.lines.Line2D at 0x7f2f01d81eb8>]"
      ]
     },
     "execution_count": 32,
     "metadata": {},
     "output_type": "execute_result"
    },
    {
     "data": {
      "image/png": "[encoded data removed]",
      "text/plain": [
       "<matplotlib.figure.Figure at 0x7f2f01dffcc0>"
      ]
     },
     "metadata": {},
     "output_type": "display_data"
    }
   ],
   "source": [
    "plt.plot(np.log(model2.Cs_), model2.scores_[1].mean(axis=0))"
   ]
  },
  {
   "cell_type": "code",
   "execution_count": 33,
   "metadata": {},
   "outputs": [
    {
     "data": {
      "text/plain": [
       "array([ 3.97606171])"
      ]
     },
     "execution_count": 33,
     "metadata": {},
     "output_type": "execute_result"
    }
   ],
   "source": [
    "np.exp(model2.intercept_)"
   ]
  },
  {
   "cell_type": "code",
   "execution_count": 34,
   "metadata": {},
   "outputs": [
    {
     "data": {
      "text/plain": [
       "array([[ 0.61451575,  0.66372079,  1.68046274,  0.74739021,  0.66616013,\n",
       "         0.59120609,  1.80806724,  1.03486911,  0.91946612,  0.87505033,\n",
       "         2.47611279,  0.54677722,  0.60311357,  1.09374536,  1.15308573,\n",
       "         1.1213609 ,  1.25625235,  0.6580992 ,  1.08351031,  0.54618329,\n",
       "         0.52312209,  1.00410791,  1.2629019 ,  0.45159828,  3.59119279,\n",
       "         1.30029569,  0.71753024,  0.79508586,  1.47449639,  0.74966155,\n",
       "         0.75519658,  0.80450449,  0.97561191,  1.06281664,  1.12628916,\n",
       "         1.84856964,  0.99733654,  1.18527773,  0.75585894,  1.9229324 ,\n",
       "         0.77163236,  1.4383677 ,  0.65151466,  0.74248048,  1.16304132,\n",
       "         0.99232474,  1.59539266,  0.85768281]])"
      ]
     },
     "execution_count": 34,
     "metadata": {},
     "output_type": "execute_result"
    }
   ],
   "source": [
    "np.exp(model2.coef_)"
   ]
  },
  {
   "cell_type": "markdown",
   "metadata": {},
   "source": [
    "### $L_{1}$ regularisation"
   ]
  },
  {
   "cell_type": "code",
   "execution_count": 35,
   "metadata": {},
   "outputs": [
    {
     "data": {
      "text/plain": [
       "LogisticRegressionCV(Cs=10, class_weight=None,\n",
       "           cv=StratifiedKFold(n_splits=5, random_state=None, shuffle=True),\n",
       "           dual=False, fit_intercept=True, intercept_scaling=1.0,\n",
       "           max_iter=100, multi_class='ovr', n_jobs=1, penalty='l1',\n",
       "           random_state=None, refit=True, scoring='roc_auc',\n",
       "           solver='liblinear', tol=0.0001, verbose=0)"
      ]
     },
     "execution_count": 35,
     "metadata": {},
     "output_type": "execute_result"
    }
   ],
   "source": [
    "model3 = lm.LogisticRegressionCV(Cs=10, cv=five_fold_cv, penalty='l1', scoring='roc_auc', solver='liblinear')\n",
    "model3.fit(X, y)"
   ]
  },
  {
   "cell_type": "code",
   "execution_count": 36,
   "metadata": {},
   "outputs": [
    {
     "data": {
      "text/plain": [
       "[<matplotlib.lines.Line2D at 0x7f2f008e6da0>]"
      ]
     },
     "execution_count": 36,
     "metadata": {},
     "output_type": "execute_result"
    },
    {
     "data": {
      "image/png": "[encoded data removed]",
      "text/plain": [
       "<matplotlib.figure.Figure at 0x7f2f01eaa7b8>"
      ]
     },
     "metadata": {},
     "output_type": "display_data"
    }
   ],
   "source": [
    "plt.plot(np.log(model3.Cs_), model3.scores_[1].mean(axis=0))"
   ]
  },
  {
   "cell_type": "code",
   "execution_count": 37,
   "metadata": {},
   "outputs": [
    {
     "data": {
      "text/plain": [
       "array([ 1.])"
      ]
     },
     "execution_count": 37,
     "metadata": {},
     "output_type": "execute_result"
    }
   ],
   "source": [
    "np.exp(model3.intercept_)"
   ]
  },
  {
   "cell_type": "code",
   "execution_count": 38,
   "metadata": {},
   "outputs": [
    {
     "data": {
      "text/plain": [
       "array([[  0.55229201,   0.86415719,  16.56387503,   0.53707225,\n",
       "          0.34338041,   0.71915309,   2.63262942,   1.        ,\n",
       "          1.        ,   0.82349175,  14.97791187,   0.16477727,\n",
       "          0.27148211,   1.32721012,   1.        ,   1.00428355,\n",
       "          1.66315663,   0.39575767,   1.0361976 ,   0.04796344,\n",
       "          0.31170385,   1.11655116,   2.93675778,   0.02444265,\n",
       "         22.47373049,   1.        ,   0.47438675,   1.094046  ,\n",
       "          1.04448257,   0.56435885,   1.        ,   0.66925089,\n",
       "          0.88347814,   0.51464555,   1.        ,   3.04351585,\n",
       "          1.        ,   1.35297482,   0.48666787,   4.88555543,\n",
       "          0.63197602,   9.65888737,   0.47860176,   0.55899083,\n",
       "          1.40065705,   1.        ,   2.53503585,   0.51005313]])"
      ]
     },
     "execution_count": 38,
     "metadata": {},
     "output_type": "execute_result"
    }
   ],
   "source": [
    "np.exp(model3.coef_)"
   ]
  },
  {
   "cell_type": "markdown",
   "metadata": {},
   "source": [
    "## Multiple classes"
   ]
  },
  {
   "cell_type": "markdown",
   "metadata": {},
   "source": [
    "Check the argument `multi_class`:\n",
    "* 'ovr' means that binary models are estimated for each class\n",
    "* 'multinomial' means that a single multinomial model is estimated"
   ]
  },
  {
   "cell_type": "code",
   "execution_count": 39,
   "metadata": {},
   "outputs": [
    {
     "data": {
      "text/plain": [
       "LogisticRegression(C=1e+50, class_weight=None, dual=False, fit_intercept=True,\n",
       "          intercept_scaling=1, max_iter=100, multi_class='multinomial',\n",
       "          n_jobs=1, penalty='l2', random_state=None, solver='lbfgs',\n",
       "          tol=0.0001, verbose=0, warm_start=False)"
      ]
     },
     "execution_count": 39,
     "metadata": {},
     "output_type": "execute_result"
    }
   ],
   "source": [
    "model4 = lm.LogisticRegression(C=1e50, solver='lbfgs', multi_class='multinomial')\n",
    "model4.fit(X, glioma.Type)"
   ]
  },
  {
   "cell_type": "code",
   "execution_count": 40,
   "metadata": {},
   "outputs": [
    {
     "data": {
      "text/plain": [
       "array(['AA', 'DA', 'GBM', 'Normal'], dtype=object)"
      ]
     },
     "execution_count": 40,
     "metadata": {},
     "output_type": "execute_result"
    }
   ],
   "source": [
    "model4.classes_"
   ]
  },
  {
   "cell_type": "code",
   "execution_count": 41,
   "metadata": {},
   "outputs": [
    {
     "data": {
      "text/plain": [
       "array([ 0.36523499,  1.4125601 ,  1.78196863,  1.08772883])"
      ]
     },
     "execution_count": 41,
     "metadata": {},
     "output_type": "execute_result"
    }
   ],
   "source": [
    "np.exp(model4.intercept_)"
   ]
  },
  {
   "cell_type": "code",
   "execution_count": 42,
   "metadata": {},
   "outputs": [
    {
     "data": {
      "text/plain": [
       "array([[  1.66383644e+02,   1.18553845e+15,   6.73133352e-10,\n",
       "          5.17208070e+23,   4.40882120e+35,   1.36581846e+33,\n",
       "          1.49331608e-07,   6.84356575e-01,   5.39711285e+07,\n",
       "          3.36597764e+10,   1.60333378e+00,   2.86020587e+04,\n",
       "          2.14505224e+07,   9.61411215e+23,   8.01140373e+42,\n",
       "          6.56783659e-25,   4.90652389e-01,   3.16035396e+44,\n",
       "          7.40903451e+00,   1.99437316e+25,   2.32833083e+28,\n",
       "          3.20462741e-06,   1.54099631e+10,   4.59769449e-10,\n",
       "          3.50371144e-51,   5.53995133e-15,   1.61047103e+18,\n",
       "          4.01319920e+06,   2.33985835e-05,   3.17216239e-12,\n",
       "          1.95600331e+08,   2.67862250e-04,   1.13174881e-16,\n",
       "          4.25859310e-09,   1.57911861e+02,   1.50712087e+00,\n",
       "          2.67513712e-14,   1.27131399e-06,   5.66780644e+00,\n",
       "          4.05108882e-17,   1.51499906e-06,   8.53886111e-02,\n",
       "          1.13122601e+04,   1.44768224e+00,   1.64102724e+01,\n",
       "          3.93424406e-10,   1.48878208e-09,   7.35387585e-11],\n",
       "       [  1.05262649e+14,   3.70859716e+02,   5.62446125e+06,\n",
       "          1.55567705e+32,   1.08848585e+29,   2.02304737e+15,\n",
       "          9.78838454e-05,   9.65612025e+15,   2.74494307e-03,\n",
       "          3.30483065e+14,   8.80704211e+06,   5.45136811e+00,\n",
       "          4.02770120e+17,   2.05573344e+15,   1.44860524e+34,\n",
       "          1.56377131e-17,   6.57665432e+05,   1.32408068e-18,\n",
       "          8.14051682e+11,   2.44012270e+27,   9.05056516e-11,\n",
       "          1.16369400e+08,   2.34572200e+08,   7.64785797e+11,\n",
       "          1.05486495e-51,   7.77500477e-06,   5.24983241e-11,\n",
       "          2.33111983e+00,   1.16554261e-17,   5.43176328e+15,\n",
       "          1.22512286e+11,   4.21785572e-08,   3.33568136e-15,\n",
       "          2.63011145e+16,   1.74500006e-10,   5.95791855e-07,\n",
       "          4.55689046e+01,   1.59224463e+02,   4.04489679e-16,\n",
       "          4.45472886e-02,   1.73861903e-18,   4.68574559e-01,\n",
       "          2.58426261e+19,   5.50952970e+01,   1.55495302e-18,\n",
       "          1.61969081e-06,   4.04115960e-09,   1.01130064e-10],\n",
       "       [  5.36998135e-17,   2.90763479e-18,   2.82629611e+15,\n",
       "          2.08691528e-29,   1.35755951e-33,   7.04409994e-44,\n",
       "          3.96589037e+44,   2.47687075e+05,   7.79222779e-01,\n",
       "          1.85719470e-04,   9.83372403e+56,   4.48968872e-13,\n",
       "          1.35003675e-18,   3.68387177e+06,   5.25658645e-30,\n",
       "          2.24728924e+02,   6.91258284e+11,   1.13567240e-30,\n",
       "          1.13528344e+14,   1.10517644e-35,   8.41151360e-35,\n",
       "          1.24983009e-02,   3.94159187e+01,   6.06072855e-16,\n",
       "          1.41763111e+93,   1.41071972e+26,   8.29545166e-08,\n",
       "          5.12710121e-12,   6.74017378e+28,   2.77340988e-33,\n",
       "          1.74008059e-10,   1.62028275e-25,   3.29194591e-09,\n",
       "          7.79649447e-05,   8.90064114e+04,   8.48586914e+41,\n",
       "          4.32945825e-09,   1.76307779e+06,   1.10722449e-31,\n",
       "          5.99136551e+30,   2.00574161e-13,   8.31048316e-01,\n",
       "          5.55783918e-12,   3.10366232e-13,   2.04909264e+12,\n",
       "          1.36162341e-06,   1.34846664e+21,   3.17383701e-01],\n",
       "       [  1.06326691e+00,   7.82230671e-01,   9.34545178e-14,\n",
       "          5.95539321e-28,   1.53495571e-32,   5.13777949e-06,\n",
       "          1.72502952e-34,   6.10958269e-22,   8.66250543e-06,\n",
       "          4.84040974e-22,   7.20158295e-65,   1.42850237e+07,\n",
       "          8.57352251e-08,   1.37347105e-46,   1.63922103e-48,\n",
       "          4.33256860e+38,   4.48312365e-18,   2.10424719e+03,\n",
       "          1.46043456e-27,   1.85930353e-18,   5.64164117e+15,\n",
       "          2.14552059e-01,   7.01859540e-21,   4.69240235e+12,\n",
       "          1.90858528e+08,   1.64570751e-07,   1.42580984e-01,\n",
       "          2.08484031e+04,   5.44015391e-08,   2.09261674e+28,\n",
       "          2.39817796e-10,   5.46268251e+35,   8.04660539e+38,\n",
       "          1.14514459e-04,   4.07726095e+02,   1.31238429e-36,\n",
       "          1.89474953e+20,   2.80198566e-03,   3.93950689e+45,\n",
       "          9.24870962e-14,   1.89281524e+36,   3.00742684e+01,\n",
       "          6.15471571e-13,   4.03959438e+10,   1.91251718e+04,\n",
       "          1.15252293e+21,   1.23260141e-04,   4.23661310e+20]])"
      ]
     },
     "execution_count": 42,
     "metadata": {},
     "output_type": "execute_result"
    }
   ],
   "source": [
    "np.exp(model4.coef_)"
   ]
  }
 ],
 "metadata": {
  "kernelspec": {
   "display_name": "Python 3",
   "language": "python",
   "name": "python3"
  },
  "language_info": {
   "codemirror_mode": {
    "name": "ipython",
    "version": 3
   },
   "file_extension": ".py",
   "mimetype": "text/x-python",
   "name": "python",
   "nbconvert_exporter": "python",
   "pygments_lexer": "ipython3",
   "version": "3.6.4"
  }
 },
 "nbformat": 4,
 "nbformat_minor": 2
}
