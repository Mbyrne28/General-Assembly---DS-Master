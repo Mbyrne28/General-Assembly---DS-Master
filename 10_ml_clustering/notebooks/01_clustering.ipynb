{
 "cells": [
  {
   "cell_type": "markdown",
   "metadata": {},
   "source": [
    "# Clustering using `scikit-learn`"
   ]
  },
  {
   "cell_type": "code",
   "execution_count": 1,
   "metadata": {},
   "outputs": [],
   "source": [
    "import numpy as np\n",
    "import pandas as pd\n",
    "import matplotlib.pyplot as plt\n",
    "import seaborn as sns\n",
    "\n",
    "from sklearn import preprocessing, cluster, metrics\n",
    "from sklearn.pipeline import Pipeline\n",
    "\n",
    "from scipy.spatial.distance import cdist, pdist\n",
    "\n",
    "from fastdtw import fastdtw\n",
    "\n",
    "%matplotlib inline"
   ]
  },
  {
   "cell_type": "markdown",
   "metadata": {},
   "source": [
    "Read in the cryptocurrencies dataset."
   ]
  },
  {
   "cell_type": "code",
   "execution_count": 2,
   "metadata": {},
   "outputs": [],
   "source": [
    "crypto = pd.read_csv('https://raw.githubusercontent.com/estimand/teaching-datasets/master/cryptocurrencies/cryptocurrencies.csv')"
   ]
  },
  {
   "cell_type": "markdown",
   "metadata": {},
   "source": [
    "Convert 'date' to `datetime`."
   ]
  },
  {
   "cell_type": "code",
   "execution_count": 3,
   "metadata": {},
   "outputs": [],
   "source": [
    "crypto['date'] = pd.to_datetime(crypto['date'])"
   ]
  },
  {
   "cell_type": "markdown",
   "metadata": {},
   "source": [
    "Keep only data from November 2017 onwards."
   ]
  },
  {
   "cell_type": "code",
   "execution_count": 4,
   "metadata": {},
   "outputs": [],
   "source": [
    "crypto = crypto[crypto['date'] >= '2017-11-01']"
   ]
  },
  {
   "cell_type": "markdown",
   "metadata": {},
   "source": [
    "Pivot close prices."
   ]
  },
  {
   "cell_type": "code",
   "execution_count": 5,
   "metadata": {},
   "outputs": [],
   "source": [
    "crypto_close = crypto.pivot_table(values='close', index='date', columns='symbol')"
   ]
  },
  {
   "cell_type": "code",
   "execution_count": 6,
   "metadata": {},
   "outputs": [
    {
     "data": {
      "text/html": [
       "<div>\n",
       "<style scoped>\n",
       "    .dataframe tbody tr th:only-of-type {\n",
       "        vertical-align: middle;\n",
       "    }\n",
       "\n",
       "    .dataframe tbody tr th {\n",
       "        vertical-align: top;\n",
       "    }\n",
       "\n",
       "    .dataframe thead th {\n",
       "        text-align: right;\n",
       "    }\n",
       "</style>\n",
       "<table border=\"1\" class=\"dataframe\">\n",
       "  <thead>\n",
       "    <tr style=\"text-align: right;\">\n",
       "      <th>symbol</th>\n",
       "      <th>BCH</th>\n",
       "      <th>BTC</th>\n",
       "      <th>BTG</th>\n",
       "      <th>DASH</th>\n",
       "      <th>EOS</th>\n",
       "      <th>ETC</th>\n",
       "      <th>ETH</th>\n",
       "      <th>IOT</th>\n",
       "      <th>LTC</th>\n",
       "      <th>NEO</th>\n",
       "      <th>NXT</th>\n",
       "      <th>XLM</th>\n",
       "      <th>XMR</th>\n",
       "      <th>XRP</th>\n",
       "      <th>ZEC</th>\n",
       "    </tr>\n",
       "    <tr>\n",
       "      <th>date</th>\n",
       "      <th></th>\n",
       "      <th></th>\n",
       "      <th></th>\n",
       "      <th></th>\n",
       "      <th></th>\n",
       "      <th></th>\n",
       "      <th></th>\n",
       "      <th></th>\n",
       "      <th></th>\n",
       "      <th></th>\n",
       "      <th></th>\n",
       "      <th></th>\n",
       "      <th></th>\n",
       "      <th></th>\n",
       "      <th></th>\n",
       "    </tr>\n",
       "  </thead>\n",
       "  <tbody>\n",
       "    <tr>\n",
       "      <th>2017-11-01</th>\n",
       "      <td>529.88</td>\n",
       "      <td>6737.78</td>\n",
       "      <td>133.57</td>\n",
       "      <td>269.64</td>\n",
       "      <td>1.05</td>\n",
       "      <td>10.11</td>\n",
       "      <td>289.42</td>\n",
       "      <td>0.3644</td>\n",
       "      <td>52.83</td>\n",
       "      <td>26.87</td>\n",
       "      <td>0.05576</td>\n",
       "      <td>0.02730</td>\n",
       "      <td>85.41</td>\n",
       "      <td>0.1903</td>\n",
       "      <td>221.21</td>\n",
       "    </tr>\n",
       "    <tr>\n",
       "      <th>2017-11-02</th>\n",
       "      <td>562.79</td>\n",
       "      <td>7024.81</td>\n",
       "      <td>121.94</td>\n",
       "      <td>263.22</td>\n",
       "      <td>1.11</td>\n",
       "      <td>10.03</td>\n",
       "      <td>284.92</td>\n",
       "      <td>0.3661</td>\n",
       "      <td>54.19</td>\n",
       "      <td>24.62</td>\n",
       "      <td>0.06052</td>\n",
       "      <td>0.02750</td>\n",
       "      <td>83.08</td>\n",
       "      <td>0.2003</td>\n",
       "      <td>216.68</td>\n",
       "    </tr>\n",
       "    <tr>\n",
       "      <th>2017-11-03</th>\n",
       "      <td>626.04</td>\n",
       "      <td>7152.12</td>\n",
       "      <td>124.12</td>\n",
       "      <td>276.79</td>\n",
       "      <td>1.20</td>\n",
       "      <td>12.49</td>\n",
       "      <td>304.51</td>\n",
       "      <td>0.3927</td>\n",
       "      <td>55.98</td>\n",
       "      <td>26.67</td>\n",
       "      <td>0.05766</td>\n",
       "      <td>0.02740</td>\n",
       "      <td>87.44</td>\n",
       "      <td>0.2059</td>\n",
       "      <td>231.16</td>\n",
       "    </tr>\n",
       "    <tr>\n",
       "      <th>2017-11-04</th>\n",
       "      <td>614.26</td>\n",
       "      <td>7363.80</td>\n",
       "      <td>138.93</td>\n",
       "      <td>273.45</td>\n",
       "      <td>1.11</td>\n",
       "      <td>11.77</td>\n",
       "      <td>300.04</td>\n",
       "      <td>0.3685</td>\n",
       "      <td>54.83</td>\n",
       "      <td>26.44</td>\n",
       "      <td>0.05610</td>\n",
       "      <td>0.02708</td>\n",
       "      <td>87.12</td>\n",
       "      <td>0.2015</td>\n",
       "      <td>229.84</td>\n",
       "    </tr>\n",
       "    <tr>\n",
       "      <th>2017-11-05</th>\n",
       "      <td>625.72</td>\n",
       "      <td>7389.55</td>\n",
       "      <td>164.58</td>\n",
       "      <td>272.22</td>\n",
       "      <td>1.09</td>\n",
       "      <td>13.10</td>\n",
       "      <td>296.23</td>\n",
       "      <td>0.3506</td>\n",
       "      <td>54.60</td>\n",
       "      <td>26.24</td>\n",
       "      <td>0.05714</td>\n",
       "      <td>0.02664</td>\n",
       "      <td>86.19</td>\n",
       "      <td>0.1997</td>\n",
       "      <td>224.97</td>\n",
       "    </tr>\n",
       "  </tbody>\n",
       "</table>\n",
       "</div>"
      ],
      "text/plain": [
       "symbol         BCH      BTC     BTG    DASH   EOS    ETC     ETH     IOT  \\\n",
       "date                                                                       \n",
       "2017-11-01  529.88  6737.78  133.57  269.64  1.05  10.11  289.42  0.3644   \n",
       "2017-11-02  562.79  7024.81  121.94  263.22  1.11  10.03  284.92  0.3661   \n",
       "2017-11-03  626.04  7152.12  124.12  276.79  1.20  12.49  304.51  0.3927   \n",
       "2017-11-04  614.26  7363.80  138.93  273.45  1.11  11.77  300.04  0.3685   \n",
       "2017-11-05  625.72  7389.55  164.58  272.22  1.09  13.10  296.23  0.3506   \n",
       "\n",
       "symbol        LTC    NEO      NXT      XLM    XMR     XRP     ZEC  \n",
       "date                                                               \n",
       "2017-11-01  52.83  26.87  0.05576  0.02730  85.41  0.1903  221.21  \n",
       "2017-11-02  54.19  24.62  0.06052  0.02750  83.08  0.2003  216.68  \n",
       "2017-11-03  55.98  26.67  0.05766  0.02740  87.44  0.2059  231.16  \n",
       "2017-11-04  54.83  26.44  0.05610  0.02708  87.12  0.2015  229.84  \n",
       "2017-11-05  54.60  26.24  0.05714  0.02664  86.19  0.1997  224.97  "
      ]
     },
     "execution_count": 6,
     "metadata": {},
     "output_type": "execute_result"
    }
   ],
   "source": [
    "crypto_close.head()"
   ]
  },
  {
   "cell_type": "markdown",
   "metadata": {},
   "source": [
    "Plot (hierarchically clustered) heatmap of the correlation matrix."
   ]
  },
  {
   "cell_type": "code",
   "execution_count": 7,
   "metadata": {},
   "outputs": [
    {
     "data": {
      "text/plain": [
       "<seaborn.matrix.ClusterGrid at 0x7f542fcabda0>"
      ]
     },
     "execution_count": 7,
     "metadata": {},
     "output_type": "execute_result"
    },
    {
     "data": {
      "image/png": "[encoded data removed]",
      "text/plain": [
       "<matplotlib.figure.Figure at 0x7f542fcabfd0>"
      ]
     },
     "metadata": {},
     "output_type": "display_data"
    }
   ],
   "source": [
    "sns.clustermap(crypto_close.corr())"
   ]
  },
  {
   "cell_type": "markdown",
   "metadata": {},
   "source": [
    "## $k$-means"
   ]
  },
  {
   "cell_type": "markdown",
   "metadata": {},
   "source": [
    "Create a pipeline that scales the data and performs $k$-means clustering."
   ]
  },
  {
   "cell_type": "code",
   "execution_count": 8,
   "metadata": {},
   "outputs": [],
   "source": [
    "kmeans = Pipeline([\n",
    "    ('scale', preprocessing.StandardScaler()),\n",
    "    ('kmeans', cluster.KMeans())\n",
    "])"
   ]
  },
  {
   "cell_type": "markdown",
   "metadata": {},
   "source": [
    "Set the number of clusters to 5."
   ]
  },
  {
   "cell_type": "code",
   "execution_count": 9,
   "metadata": {},
   "outputs": [
    {
     "data": {
      "text/plain": [
       "Pipeline(memory=None,\n",
       "     steps=[('scale', StandardScaler(copy=True, with_mean=True, with_std=True)), ('kmeans', KMeans(algorithm='auto', copy_x=True, init='k-means++', max_iter=300,\n",
       "    n_clusters=5, n_init=10, n_jobs=1, precompute_distances='auto',\n",
       "    random_state=None, tol=0.0001, verbose=0))])"
      ]
     },
     "execution_count": 9,
     "metadata": {},
     "output_type": "execute_result"
    }
   ],
   "source": [
    "kmeans.set_params(\n",
    "    kmeans__n_clusters=5\n",
    ")"
   ]
  },
  {
   "cell_type": "markdown",
   "metadata": {},
   "source": [
    "Fit the model and retrieve cluster assignments."
   ]
  },
  {
   "cell_type": "code",
   "execution_count": 10,
   "metadata": {},
   "outputs": [],
   "source": [
    "labels = kmeans.fit_predict(crypto_close.transpose())"
   ]
  },
  {
   "cell_type": "markdown",
   "metadata": {},
   "source": [
    "## Elbow method"
   ]
  },
  {
   "cell_type": "markdown",
   "metadata": {},
   "source": [
    "Scale `X`."
   ]
  },
  {
   "cell_type": "code",
   "execution_count": 11,
   "metadata": {},
   "outputs": [],
   "source": [
    "scaler = preprocessing.StandardScaler()\n",
    "crypto_close_scaled = scaler.fit_transform(crypto_close.transpose())"
   ]
  },
  {
   "cell_type": "markdown",
   "metadata": {},
   "source": [
    "Fit models."
   ]
  },
  {
   "cell_type": "code",
   "execution_count": 12,
   "metadata": {},
   "outputs": [],
   "source": [
    "kmeans_models = [cluster.KMeans(n_clusters=k).fit(crypto_close_scaled)\n",
    "                 for k in range(1, len(crypto_close_scaled) + 1)]"
   ]
  },
  {
   "cell_type": "markdown",
   "metadata": {},
   "source": [
    "Compute distance between each point and the closest centroid."
   ]
  },
  {
   "cell_type": "code",
   "execution_count": 13,
   "metadata": {},
   "outputs": [],
   "source": [
    "centroids = [model.cluster_centers_ for model in kmeans_models]\n",
    "distances = [np.min(cdist(crypto_close_scaled, centroid), axis=1) for centroid in centroids]"
   ]
  },
  {
   "cell_type": "markdown",
   "metadata": {},
   "source": [
    "Compute total sum of squares."
   ]
  },
  {
   "cell_type": "code",
   "execution_count": 14,
   "metadata": {},
   "outputs": [],
   "source": [
    "total_ss = np.sum(pdist(crypto_close_scaled)**2) / len(crypto_close_scaled)"
   ]
  },
  {
   "cell_type": "markdown",
   "metadata": {},
   "source": [
    "Compute within-cluster sum of squares."
   ]
  },
  {
   "cell_type": "code",
   "execution_count": 15,
   "metadata": {},
   "outputs": [],
   "source": [
    "within_ss = [np.sum(d**2) for d in distances]"
   ]
  },
  {
   "cell_type": "markdown",
   "metadata": {},
   "source": [
    "Compute between-cluster sum of squares (by difference)."
   ]
  },
  {
   "cell_type": "code",
   "execution_count": 16,
   "metadata": {},
   "outputs": [],
   "source": [
    "between_ss = total_ss - within_ss"
   ]
  },
  {
   "cell_type": "markdown",
   "metadata": {},
   "source": [
    "Plot variance explained for different values of $k$."
   ]
  },
  {
   "cell_type": "code",
   "execution_count": 17,
   "metadata": {},
   "outputs": [
    {
     "data": {
      "text/plain": [
       "[<matplotlib.lines.Line2D at 0x7f540abc3550>]"
      ]
     },
     "execution_count": 17,
     "metadata": {},
     "output_type": "execute_result"
    },
    {
     "data": {
      "image/png": "[encoded data removed]",
      "text/plain": [
       "<matplotlib.figure.Figure at 0x7f54601ff5f8>"
      ]
     },
     "metadata": {},
     "output_type": "display_data"
    }
   ],
   "source": [
    "plt.plot(range(1, len(crypto_close_scaled) + 1), between_ss / total_ss)"
   ]
  },
  {
   "cell_type": "markdown",
   "metadata": {},
   "source": [
    "Extract labels from 'best' model ($k$ = 3)."
   ]
  },
  {
   "cell_type": "code",
   "execution_count": 18,
   "metadata": {},
   "outputs": [],
   "source": [
    "labels = kmeans_models[2].labels_"
   ]
  },
  {
   "cell_type": "code",
   "execution_count": 19,
   "metadata": {},
   "outputs": [
    {
     "data": {
      "image/png": "[encoded data removed]",
      "text/plain": [
       "<matplotlib.figure.Figure at 0x7f540ab968d0>"
      ]
     },
     "metadata": {},
     "output_type": "display_data"
    }
   ],
   "source": [
    "colors = [\"#e41a1c\", \"#377eb8\", \"#4daf4a\", \"#984ea3\", \"#ff7f00\"]\n",
    "for i in range(np.max(labels)):\n",
    "    plt.plot(crypto_close.index, crypto_close_scaled[labels == i, :].transpose(), c=colors[i])"
   ]
  },
  {
   "cell_type": "markdown",
   "metadata": {},
   "source": [
    "## Custom distances"
   ]
  },
  {
   "cell_type": "markdown",
   "metadata": {},
   "source": [
    "Define custom distance matrix using Dynamic Time Warping (DTW)."
   ]
  },
  {
   "cell_type": "code",
   "execution_count": 20,
   "metadata": {},
   "outputs": [],
   "source": [
    "dtw_dist = np.zeros([len(crypto_close_scaled)] * 2)\n",
    "for i in range(len(crypto_close_scaled)):\n",
    "    for j in range(i + 1, len(crypto_close_scaled)):\n",
    "        dtw_dist[i, j] = dtw_dist[j, i] = fastdtw(crypto_close_scaled[i, :], crypto_close_scaled[j, :])[0]"
   ]
  },
  {
   "cell_type": "markdown",
   "metadata": {},
   "source": [
    "Perform affinity propagation clustering."
   ]
  },
  {
   "cell_type": "code",
   "execution_count": 21,
   "metadata": {},
   "outputs": [],
   "source": [
    "ap = cluster.AffinityPropagation(affinity='precomputed')\n",
    "labels = ap.fit_predict(-dtw_dist)"
   ]
  },
  {
   "cell_type": "markdown",
   "metadata": {},
   "source": [
    "Plot clustered time series from the 5 largest clusters."
   ]
  },
  {
   "cell_type": "code",
   "execution_count": 22,
   "metadata": {},
   "outputs": [
    {
     "data": {
      "image/png": "[encoded data removed]",
      "text/plain": [
       "<matplotlib.figure.Figure at 0x7f540ab8b5f8>"
      ]
     },
     "metadata": {},
     "output_type": "display_data"
    }
   ],
   "source": [
    "largest_clusters = pd.Series(labels).value_counts().index[0:5].get_values()\n",
    "for i, l in enumerate(largest_clusters):\n",
    "    plt.plot(crypto_close.index, crypto_close_scaled[labels == l,:].transpose(), c=colors[i])"
   ]
  }
 ],
 "metadata": {
  "kernelspec": {
   "display_name": "Python 3",
   "language": "python",
   "name": "python3"
  },
  "language_info": {
   "codemirror_mode": {
    "name": "ipython",
    "version": 3
   },
   "file_extension": ".py",
   "mimetype": "text/x-python",
   "name": "python",
   "nbconvert_exporter": "python",
   "pygments_lexer": "ipython3",
   "version": "3.6.4"
  }
 },
 "nbformat": 4,
 "nbformat_minor": 2
}
