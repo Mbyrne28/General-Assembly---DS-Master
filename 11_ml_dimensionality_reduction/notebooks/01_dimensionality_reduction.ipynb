{
 "cells": [
  {
   "cell_type": "markdown",
   "metadata": {},
   "source": [
    "# Dimensionality reduction using `scikit-learn`"
   ]
  },
  {
   "cell_type": "code",
   "execution_count": 1,
   "metadata": {},
   "outputs": [],
   "source": [
    "import numpy as np\n",
    "import pandas as pd\n",
    "\n",
    "import matplotlib.pyplot as plt\n",
    "\n",
    "from sklearn import preprocessing, model_selection as ms, \\\n",
    "                    manifold, decomposition as dec, cross_decomposition as cross_dec\n",
    "\n",
    "from sklearn.pipeline import Pipeline\n",
    "\n",
    "%matplotlib inline"
   ]
  },
  {
   "cell_type": "code",
   "execution_count": 2,
   "metadata": {},
   "outputs": [],
   "source": [
    "BOROUGHS_URL = 'https://files.datapress.com/london/dataset/london-borough-profiles/2017-01-26T18:50:00/london-borough-profiles.csv'"
   ]
  },
  {
   "cell_type": "markdown",
   "metadata": {},
   "source": [
    "Read in the London Borough Profiles datasets."
   ]
  },
  {
   "cell_type": "code",
   "execution_count": 3,
   "metadata": {},
   "outputs": [],
   "source": [
    "boroughs = pd.read_csv(BOROUGHS_URL, encoding='iso-8859-1')"
   ]
  },
  {
   "cell_type": "markdown",
   "metadata": {},
   "source": [
    "Filter the DataFrame so that only boroughs are included."
   ]
  },
  {
   "cell_type": "code",
   "execution_count": 4,
   "metadata": {},
   "outputs": [],
   "source": [
    "boroughs = boroughs[boroughs.Code.str.startswith('E09', na=False)]"
   ]
  },
  {
   "cell_type": "markdown",
   "metadata": {},
   "source": [
    "Replace underscores with spaces in column names."
   ]
  },
  {
   "cell_type": "code",
   "execution_count": 5,
   "metadata": {},
   "outputs": [],
   "source": [
    "boroughs.columns = boroughs.columns.str.replace('_', ' ')"
   ]
  },
  {
   "cell_type": "markdown",
   "metadata": {},
   "source": [
    "Select columns of interest."
   ]
  },
  {
   "cell_type": "code",
   "execution_count": 6,
   "metadata": {},
   "outputs": [],
   "source": [
    "boroughs = boroughs[[\n",
    "    'Area name',\n",
    "    'Population density (per hectare) 2017',\n",
    "    'Proportion of population aged 0-15, 2015',\n",
    "    'Proportion of population of working-age, 2015',\n",
    "    'Proportion of population aged 65 and over, 2015',\n",
    "    '% of resident population born abroad (2015)',\n",
    "    'Unemployment rate (2015)',\n",
    "    'Gross Annual Pay, (2016)',\n",
    "    'Modelled Household median income estimates 2012/13',\n",
    "    'Number of active businesses, 2015',\n",
    "    'Two-year business survival rates (started in 2013)',\n",
    "    'Crime rates per thousand population 2014/15',\n",
    "    'Fires per thousand population (2014)',\n",
    "    'Ambulance incidents per hundred population (2014)',\n",
    "    'Median House Price, 2015',\n",
    "    '% of area that is Greenspace, 2005',\n",
    "    'Total carbon emissions (2014)',\n",
    "    'Household Waste Recycling Rate, 2014/15',\n",
    "    'Number of cars, (2011 Census)',\n",
    "    'Number of cars per household, (2011 Census)',\n",
    "    '% of adults who cycle at least once per month, 2014/15',\n",
    "    'Average Public Transport Accessibility score, 2014',\n",
    "    'Male life expectancy, (2012-14)',\n",
    "    'Female life expectancy, (2012-14)',\n",
    "    'Teenage conception rate (2014)',\n",
    "    'Life satisfaction score 2011-14 (out of 10)',\n",
    "    'Worthwhileness score 2011-14 (out of 10)',\n",
    "    'Happiness score 2011-14 (out of 10)',\n",
    "    'Anxiety score 2011-14 (out of 10)',\n",
    "    'Childhood Obesity Prevalance (%) 2015/16',\n",
    "    'People aged 17+ with diabetes (%)',\n",
    "    'Mortality rate from causes considered preventable 2012/14'\n",
    "]]"
   ]
  },
  {
   "cell_type": "markdown",
   "metadata": {},
   "source": [
    "Set index."
   ]
  },
  {
   "cell_type": "code",
   "execution_count": 7,
   "metadata": {},
   "outputs": [],
   "source": [
    "boroughs.set_index('Area name', inplace=True)"
   ]
  },
  {
   "cell_type": "markdown",
   "metadata": {},
   "source": [
    "Fix a couple of issues with data types."
   ]
  },
  {
   "cell_type": "code",
   "execution_count": 8,
   "metadata": {},
   "outputs": [],
   "source": [
    "boroughs[boroughs['Gross Annual Pay, (2016)'] == '.'] = None"
   ]
  },
  {
   "cell_type": "code",
   "execution_count": 9,
   "metadata": {},
   "outputs": [],
   "source": [
    "boroughs['Modelled Household median income estimates 2012/13'] = \\\n",
    "    boroughs['Modelled Household median income estimates 2012/13'].str.replace(\"[^0-9]\", \"\")"
   ]
  },
  {
   "cell_type": "code",
   "execution_count": 10,
   "metadata": {},
   "outputs": [],
   "source": [
    "boroughs = boroughs.apply(pd.to_numeric)"
   ]
  },
  {
   "cell_type": "markdown",
   "metadata": {},
   "source": [
    "Remove boroughs with missing values."
   ]
  },
  {
   "cell_type": "code",
   "execution_count": 11,
   "metadata": {},
   "outputs": [],
   "source": [
    "boroughs.dropna(inplace=True)"
   ]
  },
  {
   "cell_type": "markdown",
   "metadata": {},
   "source": [
    "Extract information on 'feelings'."
   ]
  },
  {
   "cell_type": "code",
   "execution_count": 12,
   "metadata": {},
   "outputs": [],
   "source": [
    "col_idx = [\n",
    "    'Life satisfaction score 2011-14 (out of 10)',\n",
    "    'Worthwhileness score 2011-14 (out of 10)',\n",
    "    'Happiness score 2011-14 (out of 10)',\n",
    "    'Anxiety score 2011-14 (out of 10)'\n",
    "]\n",
    "feelings = boroughs[col_idx]\n",
    "boroughs.drop(col_idx, axis=1, inplace=True)"
   ]
  },
  {
   "cell_type": "markdown",
   "metadata": {},
   "source": [
    "## Multidimensional scaling (MDS)"
   ]
  },
  {
   "cell_type": "markdown",
   "metadata": {},
   "source": [
    "Create a pipeline that scales the data and performs MDS."
   ]
  },
  {
   "cell_type": "code",
   "execution_count": 13,
   "metadata": {},
   "outputs": [],
   "source": [
    "smds = Pipeline([\n",
    "    ('scale', preprocessing.StandardScaler()),\n",
    "    ('mds', manifold.MDS())\n",
    "])"
   ]
  },
  {
   "cell_type": "markdown",
   "metadata": {},
   "source": [
    "Two-dimensional projection ('embedding') of 'boroughs'"
   ]
  },
  {
   "cell_type": "code",
   "execution_count": 14,
   "metadata": {},
   "outputs": [],
   "source": [
    "boroughs_mds = smds.fit_transform(boroughs)"
   ]
  },
  {
   "cell_type": "code",
   "execution_count": 15,
   "metadata": {},
   "outputs": [
    {
     "data": {
      "image/png": "[encoded data removed]",
      "text/plain": [
       "<matplotlib.figure.Figure at 0x7f16ac48b6d8>"
      ]
     },
     "metadata": {},
     "output_type": "display_data"
    }
   ],
   "source": [
    "fig, ax = plt.subplots()\n",
    "ax.scatter(boroughs_mds[:,0], boroughs_mds[:,1])\n",
    "for i, name in enumerate(boroughs.index):\n",
    "    ax.annotate(name, boroughs_mds[i,:])"
   ]
  },
  {
   "cell_type": "markdown",
   "metadata": {},
   "source": [
    "## Principal component analysis (PCA)"
   ]
  },
  {
   "cell_type": "markdown",
   "metadata": {},
   "source": [
    "Create a pipeline that scales the data and performs PCA."
   ]
  },
  {
   "cell_type": "code",
   "execution_count": 16,
   "metadata": {},
   "outputs": [],
   "source": [
    "spca = Pipeline([\n",
    "    ('scale', preprocessing.StandardScaler()),\n",
    "    ('pca', dec.PCA())\n",
    "])"
   ]
  },
  {
   "cell_type": "markdown",
   "metadata": {},
   "source": [
    "Scores (projection of 'boroughs' on the PCs):"
   ]
  },
  {
   "cell_type": "code",
   "execution_count": 17,
   "metadata": {},
   "outputs": [],
   "source": [
    "scores = spca.fit_transform(boroughs)"
   ]
  },
  {
   "cell_type": "markdown",
   "metadata": {},
   "source": [
    "Scores plot:"
   ]
  },
  {
   "cell_type": "code",
   "execution_count": 18,
   "metadata": {},
   "outputs": [
    {
     "data": {
      "image/png": "[encoded data removed]",
      "text/plain": [
       "<matplotlib.figure.Figure at 0x7f16ac484320>"
      ]
     },
     "metadata": {},
     "output_type": "display_data"
    }
   ],
   "source": [
    "fig, ax = plt.subplots()\n",
    "ax.scatter(scores[:,0], scores[:,1])\n",
    "for i, name in enumerate(boroughs.index):\n",
    "    ax.annotate(name, scores[i,0:2])"
   ]
  },
  {
   "cell_type": "markdown",
   "metadata": {},
   "source": [
    "Loadings (coefficients defining the PCs):"
   ]
  },
  {
   "cell_type": "code",
   "execution_count": 19,
   "metadata": {},
   "outputs": [
    {
     "data": {
      "text/plain": [
       "array([[  2.84933364e-01,  -1.34862823e-01,   2.77352532e-01,\n",
       "         -2.55854213e-01,   1.47126165e-01,   1.01175342e-01,\n",
       "          4.21473538e-02,  -2.49880943e-02,   1.52651966e-01,\n",
       "         -2.10020074e-01,   2.54607227e-01,   2.14198917e-01,\n",
       "          1.75251092e-01,   1.72468631e-01,  -2.28077822e-01,\n",
       "          1.06632567e-01,  -2.24436678e-01,  -2.47325014e-01,\n",
       "         -2.95707169e-01,   1.02668055e-01,   2.83505734e-01,\n",
       "         -1.64285412e-01,  -6.91922174e-02,   1.05883565e-01,\n",
       "          1.73551127e-01,  -8.89982579e-02,   2.25966081e-01],\n",
       "       [  1.66894539e-02,  -2.72381681e-01,   5.50980263e-02,\n",
       "          1.27711979e-01,  -4.15163367e-02,  -1.65413432e-01,\n",
       "          3.37448609e-01,   3.46756949e-01,   2.39111479e-01,\n",
       "          8.32748543e-02,   1.24451009e-01,  -2.46193620e-02,\n",
       "          7.31985818e-02,   2.93407184e-01,   7.54393875e-02,\n",
       "          1.08135625e-01,   3.79535409e-02,  -6.52312598e-03,\n",
       "          5.93878380e-03,   1.95906943e-01,   1.23869938e-01,\n",
       "          2.73556184e-01,   2.91074751e-01,  -2.46032580e-01,\n",
       "         -2.56784205e-01,  -2.70451549e-01,  -1.98845962e-01],\n",
       "       [ -1.28034083e-01,   7.63508664e-02,  -1.54447303e-01,\n",
       "          1.39040423e-01,   1.27716979e-01,   2.49616362e-01,\n",
       "         -7.91581059e-02,  -1.23593126e-01,   2.88617562e-01,\n",
       "         -1.60012190e-01,   2.15249758e-01,   2.44243085e-01,\n",
       "          3.57577007e-01,   2.27308934e-02,   2.02581173e-01,\n",
       "          4.12296501e-01,   1.38710279e-02,   1.67364319e-01,\n",
       "          1.00467770e-01,  -3.35362655e-01,  -1.52593760e-02,\n",
       "          1.53955895e-01,   1.43102679e-01,  -7.26423500e-02,\n",
       "          1.77004428e-01,   1.87641575e-01,  -1.14621621e-01],\n",
       "       [  1.04689492e-01,   5.06050756e-02,   8.12734046e-02,\n",
       "         -1.40921235e-01,   5.63362536e-01,  -2.08289213e-02,\n",
       "         -1.70097977e-01,  -1.04507181e-01,   6.32211553e-02,\n",
       "          7.40917680e-02,  -4.19485328e-02,  -3.37435524e-01,\n",
       "         -2.04913799e-01,   8.69894443e-02,  -2.53046443e-01,\n",
       "         -8.05105317e-02,  -2.19933906e-02,  -9.21595964e-02,\n",
       "         -5.92082020e-02,  -1.06901592e-01,   4.76661202e-02,\n",
       "          1.82851455e-01,   2.78071258e-01,  -2.92416650e-01,\n",
       "          3.62633491e-02,   3.10844379e-01,  -1.91783379e-01],\n",
       "       [  1.71443628e-02,  -3.52070131e-01,   1.10295187e-01,\n",
       "          1.18694529e-01,  -6.65778565e-02,  -5.80349221e-01,\n",
       "         -2.00051530e-01,  -1.61695225e-01,  -4.03399124e-02,\n",
       "         -2.47215437e-01,   6.30872875e-02,  -1.18101484e-01,\n",
       "          1.99560432e-01,  -3.84352448e-02,  -1.26856751e-01,\n",
       "         -1.02910211e-01,   2.12739224e-01,   8.69587855e-02,\n",
       "         -2.51531496e-02,  -3.01383380e-01,   9.20746734e-02,\n",
       "          7.08676321e-02,   1.16638102e-01,   3.33427478e-01,\n",
       "          4.31206791e-02,  -2.18561151e-02,  -9.24129175e-02],\n",
       "       [  1.97857971e-01,  -2.82074251e-01,   1.40067225e-01,\n",
       "          3.31678728e-02,  -2.32402324e-01,   2.53839109e-01,\n",
       "          9.27504663e-02,  -3.40576192e-02,  -1.25240060e-02,\n",
       "         -2.84596870e-01,  -1.64511359e-01,   7.11659484e-02,\n",
       "         -1.76481823e-01,  -1.49072866e-01,  -2.91697314e-01,\n",
       "          1.78103422e-01,   5.06920149e-01,   1.09456431e-01,\n",
       "          3.76417726e-02,  -3.12497956e-02,   1.86866983e-02,\n",
       "         -1.01616996e-02,  -7.46021962e-02,  -3.62480839e-01,\n",
       "         -5.48330622e-02,   1.60506966e-01,   1.06679598e-01],\n",
       "       [  3.55876868e-02,   2.94203585e-02,   1.32192850e-01,\n",
       "         -1.94345083e-01,   1.61276018e-01,  -3.87781564e-01,\n",
       "         -3.90636773e-02,  -1.14192282e-01,   1.03355994e-01,\n",
       "          3.92822743e-01,  -1.86112018e-02,   8.52485712e-02,\n",
       "         -5.42745789e-02,  -6.12520671e-02,   1.33298172e-01,\n",
       "          4.42705083e-01,   2.67988219e-01,   3.02656421e-01,\n",
       "         -4.74771935e-02,   3.58238352e-01,  -2.10541493e-02,\n",
       "         -9.35589840e-02,  -9.12710193e-02,   2.14312850e-02,\n",
       "          1.73040151e-01,   8.50946709e-02,   9.71359816e-02],\n",
       "       [ -7.96911575e-02,  -7.86048224e-02,   1.60880307e-01,\n",
       "         -1.54971306e-01,   8.04775882e-02,   4.89891948e-02,\n",
       "          7.22789283e-02,   1.33329744e-01,   7.03079503e-02,\n",
       "         -4.09172858e-01,  -1.12167151e-01,  -3.26446291e-01,\n",
       "         -2.25963035e-01,  -2.08394065e-02,   2.17206691e-02,\n",
       "          2.92545941e-01,  -3.96611507e-01,   4.52293279e-01,\n",
       "          5.07495945e-02,  -5.43914235e-03,  -7.29193468e-02,\n",
       "         -3.82601136e-02,  -1.86452353e-01,   1.71473517e-01,\n",
       "         -1.18792757e-01,  -6.94342576e-02,  -1.49248270e-01],\n",
       "       [  1.89898988e-01,  -3.78109225e-01,   9.66893486e-03,\n",
       "          2.62330269e-01,  -1.84072980e-01,  -6.83514274e-02,\n",
       "         -3.90172007e-02,  -1.54374522e-01,   8.46545400e-02,\n",
       "          4.17144202e-01,   1.64600064e-03,   4.77758855e-02,\n",
       "         -9.51734032e-02,  -1.89398774e-02,   1.44145460e-02,\n",
       "         -1.61580652e-02,  -4.72530939e-01,   1.47344993e-01,\n",
       "         -3.83218012e-02,  -2.75967162e-01,   9.87325796e-02,\n",
       "         -1.66920243e-01,  -1.88104157e-01,  -2.81372754e-01,\n",
       "          2.48168751e-02,   1.38615459e-01,  -1.37532927e-02],\n",
       "       [ -1.59426599e-01,  -1.41406786e-01,   1.13783728e-01,\n",
       "         -4.16397910e-02,   3.23454895e-01,  -2.06747737e-01,\n",
       "          4.46827211e-02,   3.01510888e-02,  -3.34199037e-01,\n",
       "         -5.50979210e-02,   5.61766248e-02,   9.73808032e-02,\n",
       "          2.25299794e-01,  -2.87463122e-02,   2.49274724e-02,\n",
       "          2.27055872e-01,  -4.20404465e-02,  -3.54194174e-01,\n",
       "          2.15504098e-01,  -1.18378987e-01,  -2.45892275e-01,\n",
       "         -4.33775069e-02,  -3.81531373e-01,  -2.47590449e-01,\n",
       "         -3.18073039e-01,   6.23247645e-03,   2.02479984e-02],\n",
       "       [  1.61915812e-01,   1.30468643e-01,  -7.76955689e-02,\n",
       "          2.85702876e-03,  -1.85382930e-01,  -3.53289701e-01,\n",
       "          1.99017832e-01,  -1.56578164e-01,  -6.02817479e-02,\n",
       "         -3.62949074e-01,  -8.40336465e-02,   2.28178956e-01,\n",
       "         -1.29221317e-01,  -2.25220681e-01,   1.82353461e-01,\n",
       "          4.49680592e-02,  -3.06254761e-01,  -2.01444017e-01,\n",
       "          5.90642895e-02,   2.64631064e-01,   3.76324907e-02,\n",
       "          1.24571667e-01,   2.10619561e-01,  -1.22552431e-01,\n",
       "          4.85040654e-02,   3.70446795e-01,  -8.02073334e-02],\n",
       "       [ -8.54199031e-03,   4.49028792e-02,  -2.04281877e-01,\n",
       "          2.27540554e-01,   7.35166781e-02,  -6.05237929e-02,\n",
       "          2.98597048e-01,   2.03899295e-01,   8.36468194e-02,\n",
       "          5.86185243e-02,   1.19678923e-01,  -8.27744718e-02,\n",
       "          2.35522723e-01,   9.40237611e-02,  -4.88038603e-01,\n",
       "         -9.04123329e-02,  -4.83186476e-02,   1.57752280e-01,\n",
       "          2.56463111e-01,   1.98572054e-01,  -3.28122668e-02,\n",
       "         -1.95472947e-02,  -1.62098971e-01,   2.03507810e-01,\n",
       "          2.24725930e-02,   4.47811102e-01,   1.40400318e-01],\n",
       "       [ -1.74510096e-01,  -4.84929967e-01,   2.49897018e-01,\n",
       "          3.39048971e-02,   9.29077408e-02,   3.19073907e-01,\n",
       "          1.44390446e-01,  -2.94203772e-02,  -2.96777417e-01,\n",
       "          1.07826384e-01,  -7.73921758e-02,  -2.66070726e-02,\n",
       "          8.69131155e-02,  -1.91797501e-02,   2.00215944e-01,\n",
       "         -2.19920913e-02,  -1.74018845e-02,  -6.97306363e-02,\n",
       "          8.64306882e-02,   2.07382807e-01,  -1.15753966e-01,\n",
       "         -1.75768318e-01,   3.32187275e-01,   2.37538592e-01,\n",
       "          2.14134670e-01,   2.26863494e-01,  -1.40406607e-01],\n",
       "       [ -1.77165988e-02,  -6.83613493e-02,  -7.54618509e-03,\n",
       "          5.82141949e-02,   5.81488054e-02,  -8.58476915e-02,\n",
       "          2.03136763e-01,   1.50197537e-01,   8.76211620e-02,\n",
       "         -1.19054647e-01,   1.30950620e-01,  -2.21960550e-02,\n",
       "         -3.22882675e-01,   2.48094856e-01,   2.37493088e-01,\n",
       "         -1.54008064e-01,   1.80637491e-01,  -1.62981290e-01,\n",
       "          3.86532686e-02,  -1.08822778e-01,  -5.71927731e-02,\n",
       "          8.48318956e-02,  -4.30678890e-01,  -2.23611867e-02,\n",
       "          5.68577639e-01,   4.30341652e-02,  -1.93547358e-01],\n",
       "       [ -9.97747400e-02,   4.77283058e-02,  -2.59908436e-01,\n",
       "          2.96048904e-01,   1.75217555e-01,  -1.18814670e-01,\n",
       "          2.37915539e-01,  -4.82583976e-02,  -3.01011324e-01,\n",
       "         -1.10075204e-01,  -5.00654790e-02,   1.07211729e-02,\n",
       "         -2.73245831e-01,   3.15815135e-01,  -1.49659294e-02,\n",
       "          2.32674755e-01,   6.78394427e-03,   5.83734027e-02,\n",
       "         -2.66944279e-01,  -1.91070630e-01,  -2.69700873e-02,\n",
       "         -2.43227502e-01,   2.67345087e-01,  -6.86680424e-03,\n",
       "          3.95900297e-02,  -7.90985407e-02,   3.79811518e-01],\n",
       "       [ -2.00120013e-01,   7.73840198e-02,   6.63301253e-02,\n",
       "         -1.41719641e-01,  -1.71933008e-02,  -2.93552597e-02,\n",
       "          3.87681544e-01,   2.47942958e-02,  -8.82767732e-02,\n",
       "          2.31205472e-01,  -2.67521885e-01,   1.89422510e-01,\n",
       "         -2.70355401e-02,  -3.02702026e-01,  -3.92033244e-01,\n",
       "          1.75472351e-01,  -1.01549436e-01,  -7.91328265e-02,\n",
       "         -2.49696781e-02,  -2.86314347e-01,   9.37468590e-02,\n",
       "          2.60954265e-01,   4.72262082e-02,   1.09955568e-01,\n",
       "          2.59167707e-01,  -2.20910766e-01,  -1.59760854e-01],\n",
       "       [  6.18844745e-02,  -1.07777870e-02,   1.17638121e-01,\n",
       "         -1.51971173e-01,   2.31588171e-01,   1.78034672e-02,\n",
       "          2.37452156e-01,   2.33134756e-01,   3.10740026e-02,\n",
       "          7.49517295e-02,   9.25258814e-02,   2.63615295e-01,\n",
       "         -1.77376436e-01,  -1.94009837e-01,   3.02439076e-01,\n",
       "         -2.35159099e-01,   1.26283997e-01,   1.58221682e-01,\n",
       "         -8.48249879e-02,  -3.11420846e-01,   2.47736420e-01,\n",
       "          6.22240370e-02,  -1.40395763e-02,   2.18297941e-01,\n",
       "         -3.57327184e-01,   2.85819515e-01,   1.62154934e-01],\n",
       "       [  1.27065306e-01,   2.06670704e-01,   7.69965721e-02,\n",
       "         -2.58085568e-01,  -9.68899463e-02,  -1.33373780e-02,\n",
       "          3.93815079e-01,  -2.65343492e-01,  -3.31217841e-01,\n",
       "         -1.61695777e-02,   1.71296399e-01,  -1.24262397e-01,\n",
       "          3.45465585e-01,   1.43618197e-01,   6.13962897e-02,\n",
       "         -2.20229108e-01,   5.51998704e-02,   3.61254969e-01,\n",
       "         -1.56716296e-01,  -7.66285254e-02,  -2.61677588e-02,\n",
       "         -9.63359508e-02,  -2.90046276e-02,  -2.56465663e-01,\n",
       "          3.53803331e-02,  -7.02084151e-03,  -2.11381624e-01],\n",
       "       [  1.83604451e-01,   4.09561914e-02,   1.75548089e-02,\n",
       "         -3.55359089e-02,  -2.52700012e-01,   1.06519963e-01,\n",
       "         -1.99501997e-01,   4.16092212e-02,  -4.25934523e-01,\n",
       "          1.49817109e-01,   3.76186370e-01,   9.28322578e-02,\n",
       "         -2.35471253e-01,   2.39157691e-01,  -1.25586192e-01,\n",
       "          2.72274338e-01,  -2.41518888e-02,  -3.39792851e-03,\n",
       "         -8.57777338e-02,  -6.89444143e-03,  -8.14798145e-02,\n",
       "          3.80640915e-01,  -3.69088140e-02,   2.39329763e-01,\n",
       "         -1.24305968e-01,   1.63133930e-01,  -1.71827845e-01],\n",
       "       [  5.83392212e-02,  -3.89201316e-02,   1.74646186e-01,\n",
       "         -1.96551033e-01,  -1.28694438e-01,  -4.45054536e-02,\n",
       "         -1.06175693e-01,   2.05603445e-01,  -1.02884067e-01,\n",
       "          1.25977075e-02,  -2.73715847e-01,  -8.96896077e-02,\n",
       "          1.99420318e-01,   2.08723252e-01,   1.45976378e-01,\n",
       "         -6.51447644e-02,  -1.37496659e-01,   1.04703298e-01,\n",
       "          1.28908556e-01,  -1.15411279e-01,  -1.34424742e-01,\n",
       "          4.26785817e-01,   6.55542046e-02,  -1.21652511e-01,\n",
       "          2.27179116e-01,   7.42732393e-02,   5.61265443e-01],\n",
       "       [  2.58134189e-02,   1.65014175e-01,   3.72053555e-02,\n",
       "         -1.67162327e-01,  -3.34487717e-01,  -7.10190031e-02,\n",
       "          3.56367305e-02,   3.05968529e-01,   1.19504081e-01,\n",
       "          9.68289293e-02,  -1.92665596e-01,  -3.12476725e-01,\n",
       "          1.49751656e-01,   1.17879784e-01,   8.13706878e-02,\n",
       "          2.76779185e-01,   8.67322439e-02,  -3.18888240e-01,\n",
       "         -1.67165105e-01,  -2.59041791e-01,   4.22182309e-02,\n",
       "         -3.40065915e-01,   4.86649310e-02,   6.72638854e-02,\n",
       "         -5.62818574e-02,   3.20772577e-01,  -1.35478891e-01],\n",
       "       [ -3.69005577e-01,  -1.87825845e-02,  -3.09184909e-02,\n",
       "          1.00039359e-03,  -8.31393312e-02,  -4.56767099e-02,\n",
       "         -1.57350879e-01,   3.43357692e-01,  -2.24554336e-01,\n",
       "         -4.51411704e-02,   4.27180677e-01,  -2.07988339e-01,\n",
       "          5.06523266e-03,  -3.91473580e-01,  -1.10040380e-02,\n",
       "          2.52248856e-02,  -4.13167916e-02,   6.17829806e-02,\n",
       "         -1.39333108e-01,   7.83592969e-02,   3.19153195e-01,\n",
       "         -3.11922387e-02,   3.95832040e-02,  -2.89138156e-01,\n",
       "          2.06237754e-01,   4.16240944e-02,   1.23649772e-01],\n",
       "       [ -2.00002689e-01,   9.47708777e-02,   1.07912537e-01,\n",
       "         -1.64339319e-01,  -4.33366149e-02,  -1.13648256e-01,\n",
       "         -2.59039527e-01,   2.13805641e-01,  -1.15683528e-01,\n",
       "         -6.05719083e-02,  -1.26602464e-01,   4.54641395e-01,\n",
       "         -9.51474050e-02,   3.54562976e-01,  -1.59574515e-01,\n",
       "         -1.15576425e-01,  -3.26926090e-02,   1.88693073e-01,\n",
       "          3.43451787e-01,  -3.83946094e-02,   2.14570253e-01,\n",
       "         -3.05092796e-01,   1.24376714e-01,  -1.31999484e-01,\n",
       "          4.46301746e-02,   3.07692932e-02,  -2.00815527e-01],\n",
       "       [  1.10595015e-01,  -3.34348118e-02,  -1.72718997e-01,\n",
       "          2.38285543e-01,   1.92652675e-01,   5.53395790e-02,\n",
       "         -1.68684796e-01,   2.04864726e-01,  -2.32120078e-01,\n",
       "         -6.81858001e-02,  -4.54795469e-01,   1.11190832e-01,\n",
       "          2.63675730e-01,   3.09309918e-02,   7.59994298e-02,\n",
       "          1.02513314e-02,   1.35740861e-02,   1.02699447e-01,\n",
       "         -4.16090241e-01,   1.76114252e-01,   2.74641717e-01,\n",
       "          1.54783307e-01,  -2.52958766e-01,  -8.93177204e-04,\n",
       "          2.26225182e-02,   6.64309223e-02,  -2.28396399e-01],\n",
       "       [  6.42460889e-01,   6.47986822e-02,  -9.21951891e-02,\n",
       "          7.49612896e-02,   1.70112231e-01,  -2.06908630e-02,\n",
       "         -4.22495266e-02,   3.88216984e-01,  -1.64749098e-01,\n",
       "          1.08394369e-02,   7.54704548e-02,   1.41542457e-03,\n",
       "          5.31000588e-02,  -2.71778732e-01,   3.36233924e-02,\n",
       "          5.98104655e-02,   5.98927951e-04,   5.92858660e-02,\n",
       "          2.46289018e-01,  -1.09893368e-01,  -1.79568151e-01,\n",
       "         -1.96459457e-01,   1.79722919e-01,   1.26492193e-02,\n",
       "          1.88416819e-01,  -2.25867330e-01,  -8.15184818e-02],\n",
       "       [  1.27959534e-01,   8.53419507e-02,  -1.73445342e-02,\n",
       "          7.56335905e-02,   2.35205587e-02,   9.05650340e-02,\n",
       "          8.09748979e-02,  -2.41908834e-01,  -1.71125148e-01,\n",
       "          4.56930819e-02,  -5.59411552e-02,  -2.78759773e-01,\n",
       "         -2.49877057e-03,   8.21928394e-02,   1.53937379e-01,\n",
       "          1.69908819e-01,   5.18842962e-02,  -1.05211627e-01,\n",
       "          4.86851874e-01,   2.23238243e-03,   6.65475769e-01,\n",
       "          4.75921323e-02,  -8.30892220e-02,   8.77783746e-02,\n",
       "         -1.10961489e-02,  -9.20601953e-02,   7.63726021e-02],\n",
       "       [ -1.73599001e-02,   4.04207663e-01,   7.18316855e-01,\n",
       "          5.61062448e-01,   2.21051090e-03,  -5.93062461e-03,\n",
       "          1.63872124e-03,   2.06511905e-02,   1.02320348e-02,\n",
       "         -3.72032848e-03,   1.52338830e-02,   8.46316763e-04,\n",
       "          5.94888155e-03,  -2.63504549e-02,  -1.09971238e-03,\n",
       "         -1.05476626e-02,  -6.19092639e-03,   9.47029525e-03,\n",
       "         -4.64996334e-02,   2.85285711e-03,  -3.63202994e-02,\n",
       "          1.04422717e-03,   1.92948686e-03,  -1.23954369e-02,\n",
       "          6.00273789e-03,   7.32231633e-03,   4.03053376e-03]])"
      ]
     },
     "execution_count": 19,
     "metadata": {},
     "output_type": "execute_result"
    }
   ],
   "source": [
    "spca.named_steps['pca'].components_"
   ]
  },
  {
   "cell_type": "markdown",
   "metadata": {},
   "source": [
    "Explained variance:"
   ]
  },
  {
   "cell_type": "code",
   "execution_count": 20,
   "metadata": {},
   "outputs": [
    {
     "data": {
      "text/plain": [
       "array([  1.09024409e+01,   7.30292041e+00,   3.36527832e+00,\n",
       "         1.91630185e+00,   9.29703402e-01,   7.65244800e-01,\n",
       "         6.25094093e-01,   5.81887746e-01,   3.18563734e-01,\n",
       "         2.47482811e-01,   1.99790285e-01,   1.44998767e-01,\n",
       "         1.30865568e-01,   1.13967249e-01,   9.19209126e-02,\n",
       "         7.73137318e-02,   6.74566409e-02,   4.06029789e-02,\n",
       "         2.05738993e-02,   1.96203930e-02,   1.38116987e-02,\n",
       "         9.60123187e-03,   6.63000321e-03,   4.47356701e-03,\n",
       "         2.14376438e-03,   1.30575600e-03,   5.47721450e-06])"
      ]
     },
     "execution_count": 20,
     "metadata": {},
     "output_type": "execute_result"
    }
   ],
   "source": [
    "spca.named_steps['pca'].explained_variance_"
   ]
  },
  {
   "cell_type": "code",
   "execution_count": 21,
   "metadata": {},
   "outputs": [
    {
     "data": {
      "text/plain": [
       "array([ 10.90244091,  18.20536132,  21.57063964,  23.48694149,\n",
       "        24.41664489,  25.18188969,  25.80698378,  26.38887153,\n",
       "        26.70743526,  26.95491808,  27.15470836,  27.29970713,\n",
       "        27.4305727 ,  27.54453995,  27.63646086,  27.71377459,\n",
       "        27.78123123,  27.82183421,  27.84240811,  27.8620285 ,\n",
       "        27.8758402 ,  27.88544143,  27.89207144,  27.896545  ,\n",
       "        27.89868877,  27.89999452,  27.9       ])"
      ]
     },
     "execution_count": 21,
     "metadata": {},
     "output_type": "execute_result"
    }
   ],
   "source": [
    "np.cumsum(spca.named_steps['pca'].explained_variance_)"
   ]
  },
  {
   "cell_type": "markdown",
   "metadata": {},
   "source": [
    "Explained variance ratio:"
   ]
  },
  {
   "cell_type": "code",
   "execution_count": 22,
   "metadata": {},
   "outputs": [
    {
     "data": {
      "text/plain": [
       "array([  3.90768491e-01,   2.61753420e-01,   1.20619295e-01,\n",
       "         6.86846542e-02,   3.33227026e-02,   2.74281290e-02,\n",
       "         2.24048062e-02,   2.08561916e-02,   1.14180550e-02,\n",
       "         8.87035165e-03,   7.16094212e-03,   5.19708843e-03,\n",
       "         4.69052214e-03,   4.08484764e-03,   3.29465637e-03,\n",
       "         2.77110150e-03,   2.41780075e-03,   1.45530390e-03,\n",
       "         7.37415746e-04,   7.03239893e-04,   4.95042964e-04,\n",
       "         3.44130175e-04,   2.37634524e-04,   1.60342904e-04,\n",
       "         7.68374328e-05,   4.68012902e-05,   1.96315932e-07])"
      ]
     },
     "execution_count": 22,
     "metadata": {},
     "output_type": "execute_result"
    }
   ],
   "source": [
    "spca.named_steps['pca'].explained_variance_ratio_"
   ]
  },
  {
   "cell_type": "code",
   "execution_count": 23,
   "metadata": {},
   "outputs": [
    {
     "data": {
      "text/plain": [
       "array([ 0.39076849,  0.65252191,  0.77314121,  0.84182586,  0.87514856,\n",
       "        0.90257669,  0.9249815 ,  0.94583769,  0.95725574,  0.9661261 ,\n",
       "        0.97328704,  0.97848413,  0.98317465,  0.9872595 ,  0.99055415,\n",
       "        0.99332525,  0.99574305,  0.99719836,  0.99793577,  0.99863901,\n",
       "        0.99913406,  0.99947819,  0.99971582,  0.99987616,  0.999953  ,\n",
       "        0.9999998 ,  1.        ])"
      ]
     },
     "execution_count": 23,
     "metadata": {},
     "output_type": "execute_result"
    }
   ],
   "source": [
    "np.cumsum(spca.named_steps['pca'].explained_variance_ratio_)"
   ]
  },
  {
   "cell_type": "markdown",
   "metadata": {},
   "source": [
    "Scree plot:"
   ]
  },
  {
   "cell_type": "code",
   "execution_count": 24,
   "metadata": {},
   "outputs": [
    {
     "data": {
      "text/plain": [
       "[<matplotlib.lines.Line2D at 0x7f16a0dc6eb8>]"
      ]
     },
     "execution_count": 24,
     "metadata": {},
     "output_type": "execute_result"
    },
    {
     "data": {
      "image/png": "[encoded data removed]",
      "text/plain": [
       "<matplotlib.figure.Figure at 0x7f16a0e8c198>"
      ]
     },
     "metadata": {},
     "output_type": "display_data"
    }
   ],
   "source": [
    "plt.bar(np.arange(1, spca.named_steps['pca'].n_components_ + 1) - 0.4,\n",
    "        spca.named_steps['pca'].explained_variance_ratio_)\n",
    "cum_evr = np.cumsum(spca.named_steps['pca'].explained_variance_ratio_)\n",
    "plt.plot(np.arange(1, spca.named_steps['pca'].n_components_ + 1), cum_evr, color='black')"
   ]
  },
  {
   "cell_type": "markdown",
   "metadata": {},
   "source": [
    "## Partial least squares (PLS) regression"
   ]
  },
  {
   "cell_type": "markdown",
   "metadata": {},
   "source": [
    "Create a pipeline that scales the data and performs PLS regression."
   ]
  },
  {
   "cell_type": "code",
   "execution_count": 25,
   "metadata": {},
   "outputs": [],
   "source": [
    "spls = Pipeline([\n",
    "    ('scale', preprocessing.StandardScaler()),\n",
    "    ('pls', cross_dec.PLSRegression(scale=False))\n",
    "])"
   ]
  },
  {
   "cell_type": "markdown",
   "metadata": {},
   "source": [
    "Train a PLS regression model with three components."
   ]
  },
  {
   "cell_type": "code",
   "execution_count": 26,
   "metadata": {},
   "outputs": [
    {
     "data": {
      "text/plain": [
       "Pipeline(memory=None,\n",
       "     steps=[('scale', StandardScaler(copy=True, with_mean=True, with_std=True)), ('pls', PLSRegression(copy=True, max_iter=500, n_components=3, scale=False, tol=1e-06))])"
      ]
     },
     "execution_count": 26,
     "metadata": {},
     "output_type": "execute_result"
    }
   ],
   "source": [
    "spls.set_params(\n",
    "    pls__n_components=3\n",
    ")\n",
    "spls.fit(boroughs, feelings)"
   ]
  },
  {
   "cell_type": "markdown",
   "metadata": {},
   "source": [
    "Define folds for cross-validation."
   ]
  },
  {
   "cell_type": "code",
   "execution_count": 27,
   "metadata": {},
   "outputs": [],
   "source": [
    "three_fold_cv = ms.KFold(n_splits=3, shuffle=True)"
   ]
  },
  {
   "cell_type": "markdown",
   "metadata": {},
   "source": [
    "Compute average MSE across folds."
   ]
  },
  {
   "cell_type": "code",
   "execution_count": 28,
   "metadata": {},
   "outputs": [
    {
     "data": {
      "text/plain": [
       "0.022694771181408446"
      ]
     },
     "execution_count": 28,
     "metadata": {},
     "output_type": "execute_result"
    }
   ],
   "source": [
    "mses = ms.cross_val_score(spls, boroughs, feelings, scoring='neg_mean_squared_error', cv=three_fold_cv)\n",
    "np.mean(-mses)"
   ]
  },
  {
   "cell_type": "markdown",
   "metadata": {},
   "source": [
    "Determine 'optimal' number of components."
   ]
  },
  {
   "cell_type": "code",
   "execution_count": 29,
   "metadata": {},
   "outputs": [
    {
     "data": {
      "text/plain": [
       "GridSearchCV(cv=KFold(n_splits=3, random_state=None, shuffle=True),\n",
       "       error_score='raise',\n",
       "       estimator=Pipeline(memory=None,\n",
       "     steps=[('scale', StandardScaler(copy=True, with_mean=True, with_std=True)), ('pls', PLSRegression(copy=True, max_iter=500, n_components=3, scale=False, tol=1e-06))]),\n",
       "       fit_params=None, iid=True, n_jobs=1,\n",
       "       param_grid={'pls__n_components': array([1, 2, 3, 4, 5, 6, 7, 8, 9])},\n",
       "       pre_dispatch='2*n_jobs', refit=True, return_train_score='warn',\n",
       "       scoring='neg_mean_squared_error', verbose=0)"
      ]
     },
     "execution_count": 29,
     "metadata": {},
     "output_type": "execute_result"
    }
   ],
   "source": [
    "gs = ms.GridSearchCV(\n",
    "    estimator=spls,\n",
    "    param_grid={\n",
    "        'pls__n_components': np.arange(1, 10)\n",
    "    },\n",
    "    scoring='neg_mean_squared_error',\n",
    "    cv=three_fold_cv\n",
    ")\n",
    "gs.fit(boroughs, feelings)"
   ]
  },
  {
   "cell_type": "code",
   "execution_count": 30,
   "metadata": {},
   "outputs": [
    {
     "data": {
      "text/plain": [
       "0.027230392277316804"
      ]
     },
     "execution_count": 30,
     "metadata": {},
     "output_type": "execute_result"
    }
   ],
   "source": [
    "-gs.best_score_"
   ]
  },
  {
   "cell_type": "code",
   "execution_count": 31,
   "metadata": {},
   "outputs": [
    {
     "data": {
      "text/plain": [
       "Pipeline(memory=None,\n",
       "     steps=[('scale', StandardScaler(copy=True, with_mean=True, with_std=True)), ('pls', PLSRegression(copy=True, max_iter=500, n_components=2, scale=False, tol=1e-06))])"
      ]
     },
     "execution_count": 31,
     "metadata": {},
     "output_type": "execute_result"
    }
   ],
   "source": [
    "gs.best_estimator_"
   ]
  },
  {
   "cell_type": "markdown",
   "metadata": {},
   "source": [
    "Plot number of components against MSE."
   ]
  },
  {
   "cell_type": "code",
   "execution_count": 32,
   "metadata": {},
   "outputs": [
    {
     "data": {
      "text/plain": [
       "[<matplotlib.lines.Line2D at 0x7f16a0d03630>]"
      ]
     },
     "execution_count": 32,
     "metadata": {},
     "output_type": "execute_result"
    },
    {
     "data": {
      "image/png": "[encoded data removed]",
      "text/plain": [
       "<matplotlib.figure.Figure at 0x7f16ac48c390>"
      ]
     },
     "metadata": {},
     "output_type": "display_data"
    }
   ],
   "source": [
    "plt.plot(np.arange(1, 10), -gs.cv_results_['mean_test_score'])"
   ]
  }
 ],
 "metadata": {
  "kernelspec": {
   "display_name": "Python 3",
   "language": "python",
   "name": "python3"
  },
  "language_info": {
   "codemirror_mode": {
    "name": "ipython",
    "version": 3
   },
   "file_extension": ".py",
   "mimetype": "text/x-python",
   "name": "python",
   "nbconvert_exporter": "python",
   "pygments_lexer": "ipython3",
   "version": "3.6.4"
  }
 },
 "nbformat": 4,
 "nbformat_minor": 2
}
