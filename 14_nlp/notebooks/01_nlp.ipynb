{
 "cells": [
  {
   "cell_type": "markdown",
   "metadata": {},
   "source": [
    "# Natural language processing"
   ]
  },
  {
   "cell_type": "code",
   "execution_count": 1,
   "metadata": {},
   "outputs": [],
   "source": [
    "import numpy as np\n",
    "import pandas as pd\n",
    "\n",
    "from sklearn import model_selection as ms, feature_extraction as fe, ensemble\n",
    "\n",
    "from scipy.sparse import hstack\n",
    "\n",
    "import spacy\n",
    "\n",
    "from gensim.matutils import Sparse2Corpus\n",
    "from gensim.models import LdaModel, Word2Vec"
   ]
  },
  {
   "cell_type": "code",
   "execution_count": 2,
   "metadata": {},
   "outputs": [],
   "source": [
    "H2020_URL = 'http://cordis.europa.eu/data/cordis-h2020projects.csv'"
   ]
  },
  {
   "cell_type": "markdown",
   "metadata": {},
   "source": [
    "## Pre-processing using spaCy"
   ]
  },
  {
   "cell_type": "markdown",
   "metadata": {},
   "source": [
    "Initialise spaCy."
   ]
  },
  {
   "cell_type": "code",
   "execution_count": 3,
   "metadata": {},
   "outputs": [],
   "source": [
    "nlp = spacy.load('en')"
   ]
  },
  {
   "cell_type": "code",
   "execution_count": 4,
   "metadata": {},
   "outputs": [],
   "source": [
    "parsed = nlp('The serpentine syntax of legal language is often used to ' +\n",
    "             'obfuscate meaning and confuse those outside the law.')"
   ]
  },
  {
   "cell_type": "markdown",
   "metadata": {},
   "source": [
    "Extract information."
   ]
  },
  {
   "cell_type": "code",
   "execution_count": 5,
   "metadata": {},
   "outputs": [
    {
     "name": "stdout",
     "output_type": "stream",
     "text": [
      "The            DET            det            the            syntax         \n",
      "serpentine     ADJ            amod           serpentine     syntax         \n",
      "syntax         NOUN           nsubjpass      syntax         use            \n",
      "of             ADP            prep           of             syntax         \n",
      "legal          ADJ            amod           legal          language       \n",
      "language       NOUN           pobj           language       of             \n",
      "is             VERB           auxpass        be             use            \n",
      "often          ADV            advmod         often          use            \n",
      "used           VERB           ROOT           use            use            \n",
      "to             PART           aux            to             obfuscate      \n",
      "obfuscate      VERB           xcomp          obfuscate      use            \n",
      "meaning        NOUN           dobj           meaning        obfuscate      \n",
      "and            CCONJ          cc             and            obfuscate      \n",
      "confuse        VERB           conj           confuse        obfuscate      \n",
      "those          DET            dobj           those          confuse        \n",
      "outside        ADP            prep           outside        those          \n",
      "the            DET            det            the            law            \n",
      "law            NOUN           pobj           law            outside        \n",
      ".              PUNCT          punct          .              use            \n"
     ]
    }
   ],
   "source": [
    "for word in parsed:\n",
    "    print(\"{:15}{:15}{:15}{:15}{:15}\".format(word.text, word.pos_, word.dep_,\n",
    "                                             word.lemma_, word.head.lemma_))"
   ]
  },
  {
   "cell_type": "markdown",
   "metadata": {},
   "source": [
    "## Bag of words and random forests"
   ]
  },
  {
   "cell_type": "markdown",
   "metadata": {},
   "source": [
    "Read in the H2020 dataset."
   ]
  },
  {
   "cell_type": "code",
   "execution_count": 6,
   "metadata": {},
   "outputs": [],
   "source": [
    "h2020 = pd.read_csv(H2020_URL, sep=';', decimal=',')"
   ]
  },
  {
   "cell_type": "markdown",
   "metadata": {},
   "source": [
    "Keep only signed contracts."
   ]
  },
  {
   "cell_type": "code",
   "execution_count": 7,
   "metadata": {},
   "outputs": [],
   "source": [
    "h2020 = h2020[h2020['status'] == 'SIGNED']"
   ]
  },
  {
   "cell_type": "markdown",
   "metadata": {},
   "source": [
    "Remove missing values."
   ]
  },
  {
   "cell_type": "code",
   "execution_count": 8,
   "metadata": {},
   "outputs": [],
   "source": [
    "h2020 = h2020[h2020['totalCost'].notna()]"
   ]
  },
  {
   "cell_type": "markdown",
   "metadata": {},
   "source": [
    "Create a new variable representing whether the project was fully funded by the European Commission."
   ]
  },
  {
   "cell_type": "code",
   "execution_count": 9,
   "metadata": {},
   "outputs": [],
   "source": [
    "h2020['fully_funded'] = ~(h2020['ecMaxContribution'] < h2020['totalCost'])"
   ]
  },
  {
   "cell_type": "markdown",
   "metadata": {},
   "source": [
    "Count words and 2-grams (combinations of two words) in the 'objective', keeping only those that occur at least 5 times."
   ]
  },
  {
   "cell_type": "code",
   "execution_count": 10,
   "metadata": {},
   "outputs": [],
   "source": [
    "vectorizer = fe.text.CountVectorizer(\n",
    "    stop_words='english',\n",
    "    ngram_range=(1, 2),\n",
    "    min_df=5\n",
    ")"
   ]
  },
  {
   "cell_type": "markdown",
   "metadata": {},
   "source": [
    "Prepare the data."
   ]
  },
  {
   "cell_type": "code",
   "execution_count": 11,
   "metadata": {},
   "outputs": [],
   "source": [
    "X = vectorizer.fit_transform(h2020['objective'])\n",
    "y = h2020['fully_funded'].astype('int')"
   ]
  },
  {
   "cell_type": "markdown",
   "metadata": {},
   "source": [
    "Include total project cost and coordinator country (using the UK as reference)."
   ]
  },
  {
   "cell_type": "code",
   "execution_count": 12,
   "metadata": {},
   "outputs": [],
   "source": [
    "country_dummies = pd.get_dummies(h2020['coordinatorCountry']).drop('UK', axis=1)\n",
    "X = hstack([X, h2020['totalCost'][:, np.newaxis], country_dummies])"
   ]
  },
  {
   "cell_type": "markdown",
   "metadata": {},
   "source": [
    "Train a random forest with 20 decision trees."
   ]
  },
  {
   "cell_type": "code",
   "execution_count": 13,
   "metadata": {},
   "outputs": [
    {
     "data": {
      "text/plain": [
       "RandomForestClassifier(bootstrap=True, class_weight=None, criterion='gini',\n",
       "            max_depth=None, max_features='auto', max_leaf_nodes=None,\n",
       "            min_impurity_decrease=0.0, min_impurity_split=None,\n",
       "            min_samples_leaf=1, min_samples_split=2,\n",
       "            min_weight_fraction_leaf=0.0, n_estimators=20, n_jobs=1,\n",
       "            oob_score=False, random_state=None, verbose=0,\n",
       "            warm_start=False)"
      ]
     },
     "execution_count": 13,
     "metadata": {},
     "output_type": "execute_result"
    }
   ],
   "source": [
    "rf1 = ensemble.RandomForestClassifier(n_estimators=20)\n",
    "rf1.fit(X, y)"
   ]
  },
  {
   "cell_type": "markdown",
   "metadata": {},
   "source": [
    "Define stratified folds for cross-validation."
   ]
  },
  {
   "cell_type": "code",
   "execution_count": 14,
   "metadata": {},
   "outputs": [],
   "source": [
    "ten_fold_cv = ms.StratifiedKFold(n_splits=10, shuffle=True)"
   ]
  },
  {
   "cell_type": "markdown",
   "metadata": {},
   "source": [
    "Compute average AUC across folds."
   ]
  },
  {
   "cell_type": "code",
   "execution_count": 15,
   "metadata": {},
   "outputs": [
    {
     "data": {
      "text/plain": [
       "0.91290779178710313"
      ]
     },
     "execution_count": 15,
     "metadata": {},
     "output_type": "execute_result"
    }
   ],
   "source": [
    "aucs = ms.cross_val_score(rf1, X, y, scoring='roc_auc', cv=ten_fold_cv)\n",
    "np.mean(aucs)"
   ]
  },
  {
   "cell_type": "markdown",
   "metadata": {},
   "source": [
    "Extract variable importances and sort in descending order."
   ]
  },
  {
   "cell_type": "code",
   "execution_count": 16,
   "metadata": {},
   "outputs": [
    {
     "data": {
      "text/html": [
       "<div>\n",
       "<style scoped>\n",
       "    .dataframe tbody tr th:only-of-type {\n",
       "        vertical-align: middle;\n",
       "    }\n",
       "\n",
       "    .dataframe tbody tr th {\n",
       "        vertical-align: top;\n",
       "    }\n",
       "\n",
       "    .dataframe thead th {\n",
       "        text-align: right;\n",
       "    }\n",
       "</style>\n",
       "<table border=\"1\" class=\"dataframe\">\n",
       "  <thead>\n",
       "    <tr style=\"text-align: right;\">\n",
       "      <th></th>\n",
       "      <th>importance</th>\n",
       "      <th>variable</th>\n",
       "    </tr>\n",
       "  </thead>\n",
       "  <tbody>\n",
       "    <tr>\n",
       "      <th>65006</th>\n",
       "      <td>0.016295</td>\n",
       "      <td>totalCost</td>\n",
       "    </tr>\n",
       "    <tr>\n",
       "      <th>35075</th>\n",
       "      <td>0.013903</td>\n",
       "      <td>market</td>\n",
       "    </tr>\n",
       "    <tr>\n",
       "      <th>7515</th>\n",
       "      <td>0.011872</td>\n",
       "      <td>business</td>\n",
       "    </tr>\n",
       "    <tr>\n",
       "      <th>22635</th>\n",
       "      <td>0.010726</td>\n",
       "      <td>feasibility</td>\n",
       "    </tr>\n",
       "    <tr>\n",
       "      <th>12719</th>\n",
       "      <td>0.009264</td>\n",
       "      <td>costs</td>\n",
       "    </tr>\n",
       "    <tr>\n",
       "      <th>12613</th>\n",
       "      <td>0.006917</td>\n",
       "      <td>cost</td>\n",
       "    </tr>\n",
       "    <tr>\n",
       "      <th>61801</th>\n",
       "      <td>0.004843</td>\n",
       "      <td>understanding</td>\n",
       "    </tr>\n",
       "    <tr>\n",
       "      <th>54881</th>\n",
       "      <td>0.004469</td>\n",
       "      <td>solution</td>\n",
       "    </tr>\n",
       "    <tr>\n",
       "      <th>45629</th>\n",
       "      <td>0.004299</td>\n",
       "      <td>product</td>\n",
       "    </tr>\n",
       "    <tr>\n",
       "      <th>30031</th>\n",
       "      <td>0.003922</td>\n",
       "      <td>innovation</td>\n",
       "    </tr>\n",
       "  </tbody>\n",
       "</table>\n",
       "</div>"
      ],
      "text/plain": [
       "       importance       variable\n",
       "65006    0.016295      totalCost\n",
       "35075    0.013903         market\n",
       "7515     0.011872       business\n",
       "22635    0.010726    feasibility\n",
       "12719    0.009264          costs\n",
       "12613    0.006917           cost\n",
       "61801    0.004843  understanding\n",
       "54881    0.004469       solution\n",
       "45629    0.004299        product\n",
       "30031    0.003922     innovation"
      ]
     },
     "execution_count": 16,
     "metadata": {},
     "output_type": "execute_result"
    }
   ],
   "source": [
    "importances = pd.DataFrame({\n",
    "    'variable': vectorizer.get_feature_names() + ['totalCost'] + list(country_dummies.columns),\n",
    "    'importance': rf1.feature_importances_\n",
    "})\n",
    "importances.sort_values('importance', ascending=False, inplace=True)\n",
    "importances.head(10)"
   ]
  },
  {
   "cell_type": "markdown",
   "metadata": {},
   "source": [
    "Compute tf–idf (alternatively use `TfidfTransformer` on the output of `CountVectorizer`)."
   ]
  },
  {
   "cell_type": "code",
   "execution_count": 17,
   "metadata": {},
   "outputs": [],
   "source": [
    "vectorizer = fe.text.TfidfVectorizer(\n",
    "    stop_words='english',\n",
    "    ngram_range=(1, 2),\n",
    "    min_df=5\n",
    ")"
   ]
  },
  {
   "cell_type": "markdown",
   "metadata": {},
   "source": [
    "Prepare the data (as above)."
   ]
  },
  {
   "cell_type": "code",
   "execution_count": 18,
   "metadata": {},
   "outputs": [],
   "source": [
    "X_tfidf = vectorizer.fit_transform(h2020.objective)\n",
    "X_tfidf = hstack([X_tfidf, np.asmatrix(h2020.totalCost).T, country_dummies])"
   ]
  },
  {
   "cell_type": "markdown",
   "metadata": {},
   "source": [
    "Train a random forest with 20 decision trees."
   ]
  },
  {
   "cell_type": "code",
   "execution_count": 19,
   "metadata": {},
   "outputs": [
    {
     "data": {
      "text/plain": [
       "RandomForestClassifier(bootstrap=True, class_weight=None, criterion='gini',\n",
       "            max_depth=None, max_features='auto', max_leaf_nodes=None,\n",
       "            min_impurity_decrease=0.0, min_impurity_split=None,\n",
       "            min_samples_leaf=1, min_samples_split=2,\n",
       "            min_weight_fraction_leaf=0.0, n_estimators=20, n_jobs=1,\n",
       "            oob_score=False, random_state=None, verbose=0,\n",
       "            warm_start=False)"
      ]
     },
     "execution_count": 19,
     "metadata": {},
     "output_type": "execute_result"
    }
   ],
   "source": [
    "rf2 = ensemble.RandomForestClassifier(n_estimators=20)\n",
    "rf2.fit(X_tfidf, y)"
   ]
  },
  {
   "cell_type": "markdown",
   "metadata": {},
   "source": [
    "Compute average AUC across folds."
   ]
  },
  {
   "cell_type": "code",
   "execution_count": 20,
   "metadata": {},
   "outputs": [
    {
     "data": {
      "text/plain": [
       "0.9079928545789604"
      ]
     },
     "execution_count": 20,
     "metadata": {},
     "output_type": "execute_result"
    }
   ],
   "source": [
    "aucs = ms.cross_val_score(rf2, X_tfidf, y, scoring='roc_auc', cv=ten_fold_cv)\n",
    "np.mean(aucs)"
   ]
  },
  {
   "cell_type": "markdown",
   "metadata": {},
   "source": [
    "Extract variable importances and sort in descending order."
   ]
  },
  {
   "cell_type": "code",
   "execution_count": 21,
   "metadata": {},
   "outputs": [
    {
     "data": {
      "text/html": [
       "<div>\n",
       "<style scoped>\n",
       "    .dataframe tbody tr th:only-of-type {\n",
       "        vertical-align: middle;\n",
       "    }\n",
       "\n",
       "    .dataframe tbody tr th {\n",
       "        vertical-align: top;\n",
       "    }\n",
       "\n",
       "    .dataframe thead th {\n",
       "        text-align: right;\n",
       "    }\n",
       "</style>\n",
       "<table border=\"1\" class=\"dataframe\">\n",
       "  <thead>\n",
       "    <tr style=\"text-align: right;\">\n",
       "      <th></th>\n",
       "      <th>importance</th>\n",
       "      <th>variable</th>\n",
       "    </tr>\n",
       "  </thead>\n",
       "  <tbody>\n",
       "    <tr>\n",
       "      <th>65006</th>\n",
       "      <td>0.025284</td>\n",
       "      <td>totalCost</td>\n",
       "    </tr>\n",
       "    <tr>\n",
       "      <th>35075</th>\n",
       "      <td>0.018910</td>\n",
       "      <td>market</td>\n",
       "    </tr>\n",
       "    <tr>\n",
       "      <th>22635</th>\n",
       "      <td>0.009149</td>\n",
       "      <td>feasibility</td>\n",
       "    </tr>\n",
       "    <tr>\n",
       "      <th>13672</th>\n",
       "      <td>0.006114</td>\n",
       "      <td>customers</td>\n",
       "    </tr>\n",
       "    <tr>\n",
       "      <th>7515</th>\n",
       "      <td>0.005407</td>\n",
       "      <td>business</td>\n",
       "    </tr>\n",
       "    <tr>\n",
       "      <th>61801</th>\n",
       "      <td>0.005182</td>\n",
       "      <td>understanding</td>\n",
       "    </tr>\n",
       "    <tr>\n",
       "      <th>54881</th>\n",
       "      <td>0.005031</td>\n",
       "      <td>solution</td>\n",
       "    </tr>\n",
       "    <tr>\n",
       "      <th>12719</th>\n",
       "      <td>0.004583</td>\n",
       "      <td>costs</td>\n",
       "    </tr>\n",
       "    <tr>\n",
       "      <th>54994</th>\n",
       "      <td>0.004474</td>\n",
       "      <td>solutions</td>\n",
       "    </tr>\n",
       "    <tr>\n",
       "      <th>42102</th>\n",
       "      <td>0.004404</td>\n",
       "      <td>patented</td>\n",
       "    </tr>\n",
       "  </tbody>\n",
       "</table>\n",
       "</div>"
      ],
      "text/plain": [
       "       importance       variable\n",
       "65006    0.025284      totalCost\n",
       "35075    0.018910         market\n",
       "22635    0.009149    feasibility\n",
       "13672    0.006114      customers\n",
       "7515     0.005407       business\n",
       "61801    0.005182  understanding\n",
       "54881    0.005031       solution\n",
       "12719    0.004583          costs\n",
       "54994    0.004474      solutions\n",
       "42102    0.004404       patented"
      ]
     },
     "execution_count": 21,
     "metadata": {},
     "output_type": "execute_result"
    }
   ],
   "source": [
    "importances = pd.DataFrame({\n",
    "    'variable': vectorizer.get_feature_names() + ['totalCost'] + list(country_dummies.columns),\n",
    "    'importance': rf2.feature_importances_\n",
    "})\n",
    "importances.sort_values('importance', ascending=False, inplace=True)\n",
    "importances.head(10)"
   ]
  },
  {
   "cell_type": "markdown",
   "metadata": {},
   "source": [
    "## LDA using `gensim`"
   ]
  },
  {
   "cell_type": "markdown",
   "metadata": {},
   "source": [
    "Count words in the 'objective', keeping only those that occur at least 5 times."
   ]
  },
  {
   "cell_type": "code",
   "execution_count": 22,
   "metadata": {},
   "outputs": [],
   "source": [
    "vectorizer = fe.text.CountVectorizer(\n",
    "    stop_words='english',\n",
    "    min_df=5\n",
    ")\n",
    "X = vectorizer.fit_transform(h2020.objective)"
   ]
  },
  {
   "cell_type": "markdown",
   "metadata": {},
   "source": [
    "Convert to `gensim` format."
   ]
  },
  {
   "cell_type": "code",
   "execution_count": 23,
   "metadata": {},
   "outputs": [],
   "source": [
    "corpus = Sparse2Corpus(X, documents_columns=False)"
   ]
  },
  {
   "cell_type": "markdown",
   "metadata": {},
   "source": [
    "Create mapping from word IDs (integers) to words (strings)."
   ]
  },
  {
   "cell_type": "code",
   "execution_count": 24,
   "metadata": {},
   "outputs": [],
   "source": [
    "id2word = dict(enumerate(vectorizer.get_feature_names()))"
   ]
  },
  {
   "cell_type": "markdown",
   "metadata": {},
   "source": [
    "Fit LDA model with 10 topics."
   ]
  },
  {
   "cell_type": "code",
   "execution_count": 25,
   "metadata": {},
   "outputs": [],
   "source": [
    "lda = LdaModel(corpus=corpus, num_topics=10, id2word=id2word)"
   ]
  },
  {
   "cell_type": "markdown",
   "metadata": {},
   "source": [
    "Show top 5 words for each of the 10 topics."
   ]
  },
  {
   "cell_type": "code",
   "execution_count": 26,
   "metadata": {},
   "outputs": [
    {
     "data": {
      "text/plain": [
       "[(0,\n",
       "  '0.006*\"proteins\" + 0.006*\"molecular\" + 0.006*\"project\" + 0.005*\"mechanisms\" + 0.005*\"protein\"'),\n",
       " (1,\n",
       "  '0.009*\"cancer\" + 0.007*\"disease\" + 0.007*\"clinical\" + 0.007*\"patients\" + 0.006*\"treatment\"'),\n",
       " (2,\n",
       "  '0.013*\"research\" + 0.007*\"new\" + 0.005*\"cell\" + 0.005*\"project\" + 0.004*\"understanding\"'),\n",
       " (3,\n",
       "  '0.007*\"project\" + 0.007*\"climate\" + 0.007*\"data\" + 0.005*\"new\" + 0.005*\"health\"'),\n",
       " (4,\n",
       "  '0.010*\"materials\" + 0.009*\"production\" + 0.009*\"process\" + 0.008*\"project\" + 0.007*\"food\"'),\n",
       " (5,\n",
       "  '0.011*\"market\" + 0.010*\"data\" + 0.009*\"energy\" + 0.008*\"project\" + 0.008*\"technology\"'),\n",
       " (6,\n",
       "  '0.013*\"project\" + 0.008*\"research\" + 0.007*\"new\" + 0.007*\"european\" + 0.006*\"social\"'),\n",
       " (7,\n",
       "  '0.009*\"new\" + 0.007*\"materials\" + 0.007*\"high\" + 0.007*\"quantum\" + 0.006*\"systems\"'),\n",
       " (8,\n",
       "  '0.010*\"project\" + 0.008*\"european\" + 0.007*\"research\" + 0.005*\"new\" + 0.004*\"public\"'),\n",
       " (9,\n",
       "  '0.016*\"innovation\" + 0.010*\"project\" + 0.010*\"market\" + 0.009*\"management\" + 0.009*\"smes\"')]"
      ]
     },
     "execution_count": 26,
     "metadata": {},
     "output_type": "execute_result"
    }
   ],
   "source": [
    "lda.show_topics(num_topics=10, num_words=5)"
   ]
  },
  {
   "cell_type": "markdown",
   "metadata": {},
   "source": [
    "## word2vec using `gensim`"
   ]
  },
  {
   "cell_type": "markdown",
   "metadata": {},
   "source": [
    "Convert adjectives and verbs to corresponding lemmas using spaCy."
   ]
  },
  {
   "cell_type": "code",
   "execution_count": 27,
   "metadata": {},
   "outputs": [],
   "source": [
    "def to_lemmas(text):\n",
    "    return [\n",
    "        x.lemma_ if x.pos in (spacy.parts_of_speech.ADJ, spacy.parts_of_speech.VERB)\n",
    "        else x.text\n",
    "        for x in nlp(text)\n",
    "    ]\n",
    "\n",
    "objectives = h2020['objective'].apply(to_lemmas)"
   ]
  },
  {
   "cell_type": "markdown",
   "metadata": {},
   "source": [
    "Fit word2vec model."
   ]
  },
  {
   "cell_type": "code",
   "execution_count": 28,
   "metadata": {},
   "outputs": [],
   "source": [
    "w2c = Word2Vec(sentences=objectives, size=100, window=5, min_count=5)"
   ]
  },
  {
   "cell_type": "markdown",
   "metadata": {},
   "source": [
    "Which words are most similar to 'UK'?"
   ]
  },
  {
   "cell_type": "code",
   "execution_count": 29,
   "metadata": {},
   "outputs": [
    {
     "data": {
      "text/plain": [
       "[('Spain', 0.9113762378692627),\n",
       " ('Netherlands', 0.9079961776733398),\n",
       " ('Germany', 0.9077062606811523),\n",
       " ('Portugal', 0.8999629020690918),\n",
       " ('Italy', 0.8987637758255005),\n",
       " ('France', 0.8933299779891968),\n",
       " ('Sweden', 0.8925649523735046),\n",
       " ('Poland', 0.8824748396873474),\n",
       " ('Austria', 0.8678978681564331),\n",
       " ('Ireland', 0.8600377440452576)]"
      ]
     },
     "execution_count": 29,
     "metadata": {},
     "output_type": "execute_result"
    }
   ],
   "source": [
    "w2c.wv.most_similar('UK')"
   ]
  },
  {
   "cell_type": "markdown",
   "metadata": {},
   "source": [
    "Which words are most similar to 'UK' but not related to 'France'?"
   ]
  },
  {
   "cell_type": "code",
   "execution_count": 30,
   "metadata": {},
   "outputs": [
    {
     "data": {
      "text/plain": [
       "[('portfolio', 0.5283050537109375),\n",
       " ('adoption', 0.48575708270072937),\n",
       " ('mission', 0.48084893822669983),\n",
       " ('sector', 0.4524659812450409),\n",
       " ('excellence', 0.448476105928421),\n",
       " ('ambition', 0.4471786618232727),\n",
       " ('competitiveness', 0.44599270820617676),\n",
       " ('economy', 0.4452618658542633),\n",
       " ('company', 0.4411161541938782),\n",
       " ('capability', 0.4308639168739319)]"
      ]
     },
     "execution_count": 30,
     "metadata": {},
     "output_type": "execute_result"
    }
   ],
   "source": [
    "w2c.wv.most_similar(positive=['UK'], negative=['France'])"
   ]
  },
  {
   "cell_type": "markdown",
   "metadata": {},
   "source": [
    "Which word doesn't go with the others?"
   ]
  },
  {
   "cell_type": "code",
   "execution_count": 31,
   "metadata": {},
   "outputs": [
    {
     "data": {
      "text/plain": [
       "'Japan'"
      ]
     },
     "execution_count": 31,
     "metadata": {},
     "output_type": "execute_result"
    }
   ],
   "source": [
    "w2c.wv.doesnt_match(['Italy', 'Japan', 'France', 'UK'])"
   ]
  }
 ],
 "metadata": {
  "kernelspec": {
   "display_name": "Python 3",
   "language": "python",
   "name": "python3"
  },
  "language_info": {
   "codemirror_mode": {
    "name": "ipython",
    "version": 3
   },
   "file_extension": ".py",
   "mimetype": "text/x-python",
   "name": "python",
   "nbconvert_exporter": "python",
   "pygments_lexer": "ipython3",
   "version": "3.6.4"
  }
 },
 "nbformat": 4,
 "nbformat_minor": 2
}
